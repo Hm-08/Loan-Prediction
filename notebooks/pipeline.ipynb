{
 "cells": [
  {
   "cell_type": "markdown",
   "id": "ec3061f4",
   "metadata": {},
   "source": [
    "# Machine Learning Pipeline\n",
    "The machine learning pipeline will be implemented in an IPython notebook, making use of functions and modules for better structure and reusability."
   ]
  },
  {
   "cell_type": "code",
   "execution_count": 1,
   "id": "652e1dbd",
   "metadata": {},
   "outputs": [],
   "source": [
    "import sys\n",
    "import os\n",
    "\n",
    "sys.path.append(os.path.abspath(os.path.join(os.getcwd(), '..', 'src')))\n",
    "\n",
    "# Import necessary modules\n",
    "from data_ingestion import ingest_data\n",
    "from data_preprocessing import preprocess_data\n",
    "from model_training import train_model\n",
    "from model_evaluation import evaluate_model\n",
    "from model_tuning import tune_model\n",
    "from model_deployment import deploy_model"
   ]
  },
  {
   "cell_type": "code",
   "execution_count": 2,
   "id": "be3cc40f",
   "metadata": {},
   "outputs": [],
   "source": [
    "# Step 1: Data Ingestion\n",
    "data = ingest_data('../data/loan.csv')"
   ]
  },
  {
   "cell_type": "code",
   "execution_count": 3,
   "id": "ee75cfcb",
   "metadata": {},
   "outputs": [],
   "source": [
    "# Step 2: Data Preprocessing\n",
    "features, target = preprocess_data(data)"
   ]
  },
  {
   "cell_type": "code",
   "execution_count": 4,
   "id": "167f21f5",
   "metadata": {},
   "outputs": [],
   "source": [
    "# Step 3: Model Training\n",
    "model, X_test, y_test = train_model(features, target)"
   ]
  },
  {
   "cell_type": "code",
   "execution_count": 5,
   "id": "5b5e70c0",
   "metadata": {},
   "outputs": [
    {
     "name": "stdout",
     "output_type": "stream",
     "text": [
      "Accuracy: 0.8534149233578854\n",
      "Precision (weighted): 0.8482317834524724\n",
      "Recall (weighted): 0.8534149233578854\n",
      "F1 Score (weighted): 0.8364683585732653\n"
     ]
    }
   ],
   "source": [
    "# Step 4: Model Evaluation\n",
    "evaluate_model(model, X_test, y_test)"
   ]
  },
  {
   "cell_type": "code",
   "execution_count": 6,
   "id": "a1c0ad94",
   "metadata": {},
   "outputs": [
    {
     "name": "stdout",
     "output_type": "stream",
     "text": [
      "Fitting 3 folds for each of 32 candidates, totalling 96 fits\n"
     ]
    },
    {
     "name": "stderr",
     "output_type": "stream",
     "text": [
      "C:\\Anaconda\\lib\\site-packages\\sklearn\\model_selection\\_split.py:684: UserWarning: The least populated class in y has only 1 members, which is less than n_splits=3.\n",
      "  warnings.warn(\n"
     ]
    }
   ],
   "source": [
    "# Step 5: Model Tuning\n",
    "best_model = tune_model(features, target)"
   ]
  },
  {
   "cell_type": "code",
   "execution_count": 10,
   "id": "e966ea17",
   "metadata": {},
   "outputs": [
    {
     "name": "stdout",
     "output_type": "stream",
     "text": [
      "Model saved to ../models/loan_model.pkl\n"
     ]
    }
   ],
   "source": [
    "# Step 6: Model Deployment\n",
    "deploy_model(best_model)"
   ]
  }
 ],
 "metadata": {
  "kernelspec": {
   "display_name": "Python 3 (ipykernel)",
   "language": "python",
   "name": "python3"
  },
  "language_info": {
   "codemirror_mode": {
    "name": "ipython",
    "version": 3
   },
   "file_extension": ".py",
   "mimetype": "text/x-python",
   "name": "python",
   "nbconvert_exporter": "python",
   "pygments_lexer": "ipython3",
   "version": "3.9.12"
  }
 },
 "nbformat": 4,
 "nbformat_minor": 5
}
