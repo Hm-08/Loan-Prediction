{
 "cells": [
  {
   "cell_type": "markdown",
   "metadata": {
    "id": "vakoTuJzeilz"
   },
   "source": [
    "# Risk Prediction using LightGBM\n",
    "1.   Install LightGBM and Load Libraries\n",
    "2.   Data Collection\n",
    "3.   Exploratory Data Analysis (EDA)\n",
    "4.   Data Preprocessing\n",
    "5.   Model Training and Validation\n",
    "6.   Testing and Deployment\n",
    "\n",
    "\n",
    "\n",
    "\n",
    "\n",
    "\n",
    "\n",
    "\n",
    "\n"
   ]
  },
  {
   "cell_type": "markdown",
   "metadata": {
    "id": "8ZfL8zxeQlmy"
   },
   "source": [
    "##1. Install LightGBM and Load Libraries"
   ]
  },
  {
   "cell_type": "code",
   "execution_count": 46,
   "metadata": {
    "colab": {
     "base_uri": "https://localhost:8080/"
    },
    "id": "QdbMbB9yPvN4",
    "outputId": "1373534e-fc07-46a5-fa5d-302f79201f83"
   },
   "outputs": [
    {
     "name": "stdout",
     "output_type": "stream",
     "text": [
      "Requirement already satisfied: lightgbm in /usr/local/lib/python3.10/dist-packages (4.1.0)\n",
      "Requirement already satisfied: numpy in /usr/local/lib/python3.10/dist-packages (from lightgbm) (1.25.2)\n",
      "Requirement already satisfied: scipy in /usr/local/lib/python3.10/dist-packages (from lightgbm) (1.11.4)\n"
     ]
    }
   ],
   "source": [
    "!pip install lightgbm"
   ]
  },
  {
   "cell_type": "code",
   "execution_count": 47,
   "metadata": {
    "id": "XQ0Iaz1FQLZH"
   },
   "outputs": [],
   "source": [
    "import numpy as np\n",
    "import matplotlib.pyplot as plt\n",
    "import pandas as pd\n",
    "import seaborn as sns\n",
    "\n",
    "from sklearn.model_selection import train_test_split\n",
    "from sklearn.preprocessing import LabelEncoder\n",
    "from sklearn.metrics import accuracy_score, precision_score, recall_score, f1_score"
   ]
  },
  {
   "cell_type": "markdown",
   "metadata": {
    "id": "MP0C4LMpfzR7"
   },
   "source": [
    "##2. Data Collection"
   ]
  },
  {
   "cell_type": "markdown",
   "metadata": {
    "id": "DcmCq-fkRNs5"
   },
   "source": [
    "###Load Dataset\n",
    "Firstly, we will load the dataset into a variable called `loan_df`. The dataset is the csv file `loan.csv` located at the same directory as the notebook file."
   ]
  },
  {
   "cell_type": "code",
   "execution_count": 48,
   "metadata": {
    "id": "IiQXJ6IcRNJK"
   },
   "outputs": [],
   "source": [
    "loan_df = pd.read_csv(\"/content/loan.csv\")"
   ]
  },
  {
   "cell_type": "code",
   "execution_count": 49,
   "metadata": {
    "id": "5EDwyl5o2YHx"
   },
   "outputs": [],
   "source": [
    "loan_df.replace({'NA': np.nan, '': np.nan}, inplace=True)\n",
    "boolean_column = ['originated', 'approved']\n",
    "loan_df[boolean_column] = loan_df[boolean_column].replace({True: 1, False: 0})"
   ]
  },
  {
   "cell_type": "markdown",
   "metadata": {
    "id": "EamfMgfgRheO"
   },
   "source": [
    "##3. Exploratory Data Analysis (EDA)\n",
    "After the dataset has been loaded into the `loan_df` variable, we will peek at the first and last five items of the DataFrame `loan_df`."
   ]
  },
  {
   "cell_type": "code",
   "execution_count": 50,
   "metadata": {
    "colab": {
     "base_uri": "https://localhost:8080/",
     "height": 313
    },
    "id": "L5Wp399tDH2N",
    "outputId": "4453dae2-11e6-4d43-a2f9-9fe509c7b5bc"
   },
   "outputs": [
    {
     "data": {
      "application/vnd.google.colaboratory.intrinsic+json": {
       "type": "dataframe",
       "variable_name": "loan_df"
      },
      "text/html": [
       "\n",
       "  <div id=\"df-81bf7e30-7d20-4eb2-9f13-c4c35b98cd9e\" class=\"colab-df-container\">\n",
       "    <div>\n",
       "<style scoped>\n",
       "    .dataframe tbody tr th:only-of-type {\n",
       "        vertical-align: middle;\n",
       "    }\n",
       "\n",
       "    .dataframe tbody tr th {\n",
       "        vertical-align: top;\n",
       "    }\n",
       "\n",
       "    .dataframe thead th {\n",
       "        text-align: right;\n",
       "    }\n",
       "</style>\n",
       "<table border=\"1\" class=\"dataframe\">\n",
       "  <thead>\n",
       "    <tr style=\"text-align: right;\">\n",
       "      <th></th>\n",
       "      <th>loanId</th>\n",
       "      <th>anon_ssn</th>\n",
       "      <th>payFrequency</th>\n",
       "      <th>apr</th>\n",
       "      <th>applicationDate</th>\n",
       "      <th>originated</th>\n",
       "      <th>originatedDate</th>\n",
       "      <th>nPaidOff</th>\n",
       "      <th>approved</th>\n",
       "      <th>isFunded</th>\n",
       "      <th>loanStatus</th>\n",
       "      <th>loanAmount</th>\n",
       "      <th>originallyScheduledPaymentAmount</th>\n",
       "      <th>state</th>\n",
       "      <th>leadType</th>\n",
       "      <th>leadCost</th>\n",
       "      <th>fpStatus</th>\n",
       "      <th>clarityFraudId</th>\n",
       "      <th>hasCF</th>\n",
       "    </tr>\n",
       "  </thead>\n",
       "  <tbody>\n",
       "    <tr>\n",
       "      <th>0</th>\n",
       "      <td>LL-I-07399092</td>\n",
       "      <td>beff4989be82aab4a5b47679216942fd</td>\n",
       "      <td>B</td>\n",
       "      <td>360.0</td>\n",
       "      <td>2016-02-23T17:29:01.940000</td>\n",
       "      <td>0</td>\n",
       "      <td>NaN</td>\n",
       "      <td>0.0</td>\n",
       "      <td>0</td>\n",
       "      <td>0</td>\n",
       "      <td>Withdrawn Application</td>\n",
       "      <td>500.0</td>\n",
       "      <td>978.27</td>\n",
       "      <td>IL</td>\n",
       "      <td>bvMandatory</td>\n",
       "      <td>6</td>\n",
       "      <td>NaN</td>\n",
       "      <td>5669ef78e4b0c9d3936440e6</td>\n",
       "      <td>1</td>\n",
       "    </tr>\n",
       "    <tr>\n",
       "      <th>1</th>\n",
       "      <td>LL-I-06644937</td>\n",
       "      <td>464f5d9ae4fa09ece4048d949191865c</td>\n",
       "      <td>B</td>\n",
       "      <td>199.0</td>\n",
       "      <td>2016-01-19T22:07:36.778000</td>\n",
       "      <td>1</td>\n",
       "      <td>2016-01-20T15:49:18.846000</td>\n",
       "      <td>0.0</td>\n",
       "      <td>1</td>\n",
       "      <td>1</td>\n",
       "      <td>Paid Off Loan</td>\n",
       "      <td>3000.0</td>\n",
       "      <td>6395.19</td>\n",
       "      <td>CA</td>\n",
       "      <td>prescreen</td>\n",
       "      <td>0</td>\n",
       "      <td>Checked</td>\n",
       "      <td>569eb3a3e4b096699f685d64</td>\n",
       "      <td>1</td>\n",
       "    </tr>\n",
       "    <tr>\n",
       "      <th>2</th>\n",
       "      <td>LL-I-10707532</td>\n",
       "      <td>3c174ae9e2505a5f9ddbff9843281845</td>\n",
       "      <td>B</td>\n",
       "      <td>590.0</td>\n",
       "      <td>2016-08-01T13:51:14.709000</td>\n",
       "      <td>0</td>\n",
       "      <td>NaN</td>\n",
       "      <td>0.0</td>\n",
       "      <td>0</td>\n",
       "      <td>0</td>\n",
       "      <td>Withdrawn Application</td>\n",
       "      <td>400.0</td>\n",
       "      <td>1199.45</td>\n",
       "      <td>MO</td>\n",
       "      <td>bvMandatory</td>\n",
       "      <td>3</td>\n",
       "      <td>NaN</td>\n",
       "      <td>579eab11e4b0d0502870ef2f</td>\n",
       "      <td>1</td>\n",
       "    </tr>\n",
       "    <tr>\n",
       "      <th>3</th>\n",
       "      <td>LL-I-02272596</td>\n",
       "      <td>9be6f443bb97db7e95fa0c281d34da91</td>\n",
       "      <td>B</td>\n",
       "      <td>360.0</td>\n",
       "      <td>2015-08-06T23:58:08.880000</td>\n",
       "      <td>0</td>\n",
       "      <td>NaN</td>\n",
       "      <td>0.0</td>\n",
       "      <td>0</td>\n",
       "      <td>0</td>\n",
       "      <td>Withdrawn Application</td>\n",
       "      <td>500.0</td>\n",
       "      <td>1074.05</td>\n",
       "      <td>IL</td>\n",
       "      <td>bvMandatory</td>\n",
       "      <td>3</td>\n",
       "      <td>NaN</td>\n",
       "      <td>555b1e95e4b0f6f11b267c18</td>\n",
       "      <td>1</td>\n",
       "    </tr>\n",
       "    <tr>\n",
       "      <th>4</th>\n",
       "      <td>LL-I-09542882</td>\n",
       "      <td>63b5494f60b5c19c827c7b068443752c</td>\n",
       "      <td>B</td>\n",
       "      <td>590.0</td>\n",
       "      <td>2016-06-05T22:31:34.304000</td>\n",
       "      <td>0</td>\n",
       "      <td>NaN</td>\n",
       "      <td>0.0</td>\n",
       "      <td>0</td>\n",
       "      <td>0</td>\n",
       "      <td>Rejected</td>\n",
       "      <td>350.0</td>\n",
       "      <td>814.37</td>\n",
       "      <td>NV</td>\n",
       "      <td>bvMandatory</td>\n",
       "      <td>3</td>\n",
       "      <td>NaN</td>\n",
       "      <td>5754a91be4b0c6a2bf424772</td>\n",
       "      <td>1</td>\n",
       "    </tr>\n",
       "  </tbody>\n",
       "</table>\n",
       "</div>\n",
       "    <div class=\"colab-df-buttons\">\n",
       "\n",
       "  <div class=\"colab-df-container\">\n",
       "    <button class=\"colab-df-convert\" onclick=\"convertToInteractive('df-81bf7e30-7d20-4eb2-9f13-c4c35b98cd9e')\"\n",
       "            title=\"Convert this dataframe to an interactive table.\"\n",
       "            style=\"display:none;\">\n",
       "\n",
       "  <svg xmlns=\"http://www.w3.org/2000/svg\" height=\"24px\" viewBox=\"0 -960 960 960\">\n",
       "    <path d=\"M120-120v-720h720v720H120Zm60-500h600v-160H180v160Zm220 220h160v-160H400v160Zm0 220h160v-160H400v160ZM180-400h160v-160H180v160Zm440 0h160v-160H620v160ZM180-180h160v-160H180v160Zm440 0h160v-160H620v160Z\"/>\n",
       "  </svg>\n",
       "    </button>\n",
       "\n",
       "  <style>\n",
       "    .colab-df-container {\n",
       "      display:flex;\n",
       "      gap: 12px;\n",
       "    }\n",
       "\n",
       "    .colab-df-convert {\n",
       "      background-color: #E8F0FE;\n",
       "      border: none;\n",
       "      border-radius: 50%;\n",
       "      cursor: pointer;\n",
       "      display: none;\n",
       "      fill: #1967D2;\n",
       "      height: 32px;\n",
       "      padding: 0 0 0 0;\n",
       "      width: 32px;\n",
       "    }\n",
       "\n",
       "    .colab-df-convert:hover {\n",
       "      background-color: #E2EBFA;\n",
       "      box-shadow: 0px 1px 2px rgba(60, 64, 67, 0.3), 0px 1px 3px 1px rgba(60, 64, 67, 0.15);\n",
       "      fill: #174EA6;\n",
       "    }\n",
       "\n",
       "    .colab-df-buttons div {\n",
       "      margin-bottom: 4px;\n",
       "    }\n",
       "\n",
       "    [theme=dark] .colab-df-convert {\n",
       "      background-color: #3B4455;\n",
       "      fill: #D2E3FC;\n",
       "    }\n",
       "\n",
       "    [theme=dark] .colab-df-convert:hover {\n",
       "      background-color: #434B5C;\n",
       "      box-shadow: 0px 1px 3px 1px rgba(0, 0, 0, 0.15);\n",
       "      filter: drop-shadow(0px 1px 2px rgba(0, 0, 0, 0.3));\n",
       "      fill: #FFFFFF;\n",
       "    }\n",
       "  </style>\n",
       "\n",
       "    <script>\n",
       "      const buttonEl =\n",
       "        document.querySelector('#df-81bf7e30-7d20-4eb2-9f13-c4c35b98cd9e button.colab-df-convert');\n",
       "      buttonEl.style.display =\n",
       "        google.colab.kernel.accessAllowed ? 'block' : 'none';\n",
       "\n",
       "      async function convertToInteractive(key) {\n",
       "        const element = document.querySelector('#df-81bf7e30-7d20-4eb2-9f13-c4c35b98cd9e');\n",
       "        const dataTable =\n",
       "          await google.colab.kernel.invokeFunction('convertToInteractive',\n",
       "                                                    [key], {});\n",
       "        if (!dataTable) return;\n",
       "\n",
       "        const docLinkHtml = 'Like what you see? Visit the ' +\n",
       "          '<a target=\"_blank\" href=https://colab.research.google.com/notebooks/data_table.ipynb>data table notebook</a>'\n",
       "          + ' to learn more about interactive tables.';\n",
       "        element.innerHTML = '';\n",
       "        dataTable['output_type'] = 'display_data';\n",
       "        await google.colab.output.renderOutput(dataTable, element);\n",
       "        const docLink = document.createElement('div');\n",
       "        docLink.innerHTML = docLinkHtml;\n",
       "        element.appendChild(docLink);\n",
       "      }\n",
       "    </script>\n",
       "  </div>\n",
       "\n",
       "\n",
       "<div id=\"df-f4ff91b4-ee95-461a-862d-ed43e6b4529b\">\n",
       "  <button class=\"colab-df-quickchart\" onclick=\"quickchart('df-f4ff91b4-ee95-461a-862d-ed43e6b4529b')\"\n",
       "            title=\"Suggest charts\"\n",
       "            style=\"display:none;\">\n",
       "\n",
       "<svg xmlns=\"http://www.w3.org/2000/svg\" height=\"24px\"viewBox=\"0 0 24 24\"\n",
       "     width=\"24px\">\n",
       "    <g>\n",
       "        <path d=\"M19 3H5c-1.1 0-2 .9-2 2v14c0 1.1.9 2 2 2h14c1.1 0 2-.9 2-2V5c0-1.1-.9-2-2-2zM9 17H7v-7h2v7zm4 0h-2V7h2v10zm4 0h-2v-4h2v4z\"/>\n",
       "    </g>\n",
       "</svg>\n",
       "  </button>\n",
       "\n",
       "<style>\n",
       "  .colab-df-quickchart {\n",
       "      --bg-color: #E8F0FE;\n",
       "      --fill-color: #1967D2;\n",
       "      --hover-bg-color: #E2EBFA;\n",
       "      --hover-fill-color: #174EA6;\n",
       "      --disabled-fill-color: #AAA;\n",
       "      --disabled-bg-color: #DDD;\n",
       "  }\n",
       "\n",
       "  [theme=dark] .colab-df-quickchart {\n",
       "      --bg-color: #3B4455;\n",
       "      --fill-color: #D2E3FC;\n",
       "      --hover-bg-color: #434B5C;\n",
       "      --hover-fill-color: #FFFFFF;\n",
       "      --disabled-bg-color: #3B4455;\n",
       "      --disabled-fill-color: #666;\n",
       "  }\n",
       "\n",
       "  .colab-df-quickchart {\n",
       "    background-color: var(--bg-color);\n",
       "    border: none;\n",
       "    border-radius: 50%;\n",
       "    cursor: pointer;\n",
       "    display: none;\n",
       "    fill: var(--fill-color);\n",
       "    height: 32px;\n",
       "    padding: 0;\n",
       "    width: 32px;\n",
       "  }\n",
       "\n",
       "  .colab-df-quickchart:hover {\n",
       "    background-color: var(--hover-bg-color);\n",
       "    box-shadow: 0 1px 2px rgba(60, 64, 67, 0.3), 0 1px 3px 1px rgba(60, 64, 67, 0.15);\n",
       "    fill: var(--button-hover-fill-color);\n",
       "  }\n",
       "\n",
       "  .colab-df-quickchart-complete:disabled,\n",
       "  .colab-df-quickchart-complete:disabled:hover {\n",
       "    background-color: var(--disabled-bg-color);\n",
       "    fill: var(--disabled-fill-color);\n",
       "    box-shadow: none;\n",
       "  }\n",
       "\n",
       "  .colab-df-spinner {\n",
       "    border: 2px solid var(--fill-color);\n",
       "    border-color: transparent;\n",
       "    border-bottom-color: var(--fill-color);\n",
       "    animation:\n",
       "      spin 1s steps(1) infinite;\n",
       "  }\n",
       "\n",
       "  @keyframes spin {\n",
       "    0% {\n",
       "      border-color: transparent;\n",
       "      border-bottom-color: var(--fill-color);\n",
       "      border-left-color: var(--fill-color);\n",
       "    }\n",
       "    20% {\n",
       "      border-color: transparent;\n",
       "      border-left-color: var(--fill-color);\n",
       "      border-top-color: var(--fill-color);\n",
       "    }\n",
       "    30% {\n",
       "      border-color: transparent;\n",
       "      border-left-color: var(--fill-color);\n",
       "      border-top-color: var(--fill-color);\n",
       "      border-right-color: var(--fill-color);\n",
       "    }\n",
       "    40% {\n",
       "      border-color: transparent;\n",
       "      border-right-color: var(--fill-color);\n",
       "      border-top-color: var(--fill-color);\n",
       "    }\n",
       "    60% {\n",
       "      border-color: transparent;\n",
       "      border-right-color: var(--fill-color);\n",
       "    }\n",
       "    80% {\n",
       "      border-color: transparent;\n",
       "      border-right-color: var(--fill-color);\n",
       "      border-bottom-color: var(--fill-color);\n",
       "    }\n",
       "    90% {\n",
       "      border-color: transparent;\n",
       "      border-bottom-color: var(--fill-color);\n",
       "    }\n",
       "  }\n",
       "</style>\n",
       "\n",
       "  <script>\n",
       "    async function quickchart(key) {\n",
       "      const quickchartButtonEl =\n",
       "        document.querySelector('#' + key + ' button');\n",
       "      quickchartButtonEl.disabled = true;  // To prevent multiple clicks.\n",
       "      quickchartButtonEl.classList.add('colab-df-spinner');\n",
       "      try {\n",
       "        const charts = await google.colab.kernel.invokeFunction(\n",
       "            'suggestCharts', [key], {});\n",
       "      } catch (error) {\n",
       "        console.error('Error during call to suggestCharts:', error);\n",
       "      }\n",
       "      quickchartButtonEl.classList.remove('colab-df-spinner');\n",
       "      quickchartButtonEl.classList.add('colab-df-quickchart-complete');\n",
       "    }\n",
       "    (() => {\n",
       "      let quickchartButtonEl =\n",
       "        document.querySelector('#df-f4ff91b4-ee95-461a-862d-ed43e6b4529b button');\n",
       "      quickchartButtonEl.style.display =\n",
       "        google.colab.kernel.accessAllowed ? 'block' : 'none';\n",
       "    })();\n",
       "  </script>\n",
       "</div>\n",
       "\n",
       "    </div>\n",
       "  </div>\n"
      ],
      "text/plain": [
       "          loanId                          anon_ssn payFrequency    apr  \\\n",
       "0  LL-I-07399092  beff4989be82aab4a5b47679216942fd            B  360.0   \n",
       "1  LL-I-06644937  464f5d9ae4fa09ece4048d949191865c            B  199.0   \n",
       "2  LL-I-10707532  3c174ae9e2505a5f9ddbff9843281845            B  590.0   \n",
       "3  LL-I-02272596  9be6f443bb97db7e95fa0c281d34da91            B  360.0   \n",
       "4  LL-I-09542882  63b5494f60b5c19c827c7b068443752c            B  590.0   \n",
       "\n",
       "              applicationDate  originated              originatedDate  \\\n",
       "0  2016-02-23T17:29:01.940000           0                         NaN   \n",
       "1  2016-01-19T22:07:36.778000           1  2016-01-20T15:49:18.846000   \n",
       "2  2016-08-01T13:51:14.709000           0                         NaN   \n",
       "3  2015-08-06T23:58:08.880000           0                         NaN   \n",
       "4  2016-06-05T22:31:34.304000           0                         NaN   \n",
       "\n",
       "   nPaidOff  approved  isFunded             loanStatus  loanAmount  \\\n",
       "0       0.0         0         0  Withdrawn Application       500.0   \n",
       "1       0.0         1         1          Paid Off Loan      3000.0   \n",
       "2       0.0         0         0  Withdrawn Application       400.0   \n",
       "3       0.0         0         0  Withdrawn Application       500.0   \n",
       "4       0.0         0         0               Rejected       350.0   \n",
       "\n",
       "   originallyScheduledPaymentAmount state     leadType  leadCost fpStatus  \\\n",
       "0                            978.27    IL  bvMandatory         6      NaN   \n",
       "1                           6395.19    CA    prescreen         0  Checked   \n",
       "2                           1199.45    MO  bvMandatory         3      NaN   \n",
       "3                           1074.05    IL  bvMandatory         3      NaN   \n",
       "4                            814.37    NV  bvMandatory         3      NaN   \n",
       "\n",
       "             clarityFraudId  hasCF  \n",
       "0  5669ef78e4b0c9d3936440e6      1  \n",
       "1  569eb3a3e4b096699f685d64      1  \n",
       "2  579eab11e4b0d0502870ef2f      1  \n",
       "3  555b1e95e4b0f6f11b267c18      1  \n",
       "4  5754a91be4b0c6a2bf424772      1  "
      ]
     },
     "execution_count": 50,
     "metadata": {},
     "output_type": "execute_result"
    }
   ],
   "source": [
    "loan_df.head()"
   ]
  },
  {
   "cell_type": "code",
   "execution_count": 51,
   "metadata": {
    "colab": {
     "base_uri": "https://localhost:8080/",
     "height": 313
    },
    "id": "h7OO923PFejr",
    "outputId": "7d771a9d-fe65-415a-85fd-a26ba6595485"
   },
   "outputs": [
    {
     "data": {
      "application/vnd.google.colaboratory.intrinsic+json": {
       "repr_error": "0",
       "type": "dataframe"
      },
      "text/html": [
       "\n",
       "  <div id=\"df-4e6dfbaf-fa45-4b60-8c07-7f9ac6d98c78\" class=\"colab-df-container\">\n",
       "    <div>\n",
       "<style scoped>\n",
       "    .dataframe tbody tr th:only-of-type {\n",
       "        vertical-align: middle;\n",
       "    }\n",
       "\n",
       "    .dataframe tbody tr th {\n",
       "        vertical-align: top;\n",
       "    }\n",
       "\n",
       "    .dataframe thead th {\n",
       "        text-align: right;\n",
       "    }\n",
       "</style>\n",
       "<table border=\"1\" class=\"dataframe\">\n",
       "  <thead>\n",
       "    <tr style=\"text-align: right;\">\n",
       "      <th></th>\n",
       "      <th>loanId</th>\n",
       "      <th>anon_ssn</th>\n",
       "      <th>payFrequency</th>\n",
       "      <th>apr</th>\n",
       "      <th>applicationDate</th>\n",
       "      <th>originated</th>\n",
       "      <th>originatedDate</th>\n",
       "      <th>nPaidOff</th>\n",
       "      <th>approved</th>\n",
       "      <th>isFunded</th>\n",
       "      <th>loanStatus</th>\n",
       "      <th>loanAmount</th>\n",
       "      <th>originallyScheduledPaymentAmount</th>\n",
       "      <th>state</th>\n",
       "      <th>leadType</th>\n",
       "      <th>leadCost</th>\n",
       "      <th>fpStatus</th>\n",
       "      <th>clarityFraudId</th>\n",
       "      <th>hasCF</th>\n",
       "    </tr>\n",
       "  </thead>\n",
       "  <tbody>\n",
       "    <tr>\n",
       "      <th>577677</th>\n",
       "      <td>LL-I-12122269</td>\n",
       "      <td>801262d04720d32040612759857f4147</td>\n",
       "      <td>B</td>\n",
       "      <td>590.0</td>\n",
       "      <td>2016-11-08T17:32:33.554000</td>\n",
       "      <td>0</td>\n",
       "      <td>NaN</td>\n",
       "      <td>0.0</td>\n",
       "      <td>0</td>\n",
       "      <td>0</td>\n",
       "      <td>Withdrawn Application</td>\n",
       "      <td>400.0</td>\n",
       "      <td>1292.41</td>\n",
       "      <td>NV</td>\n",
       "      <td>bvMandatory</td>\n",
       "      <td>3</td>\n",
       "      <td>NaN</td>\n",
       "      <td>58220cdde4b051c58d919c1f</td>\n",
       "      <td>1</td>\n",
       "    </tr>\n",
       "    <tr>\n",
       "      <th>577678</th>\n",
       "      <td>LL-I-16183462</td>\n",
       "      <td>e37750de9d99a67e0fa96a51e86fdf5b</td>\n",
       "      <td>S</td>\n",
       "      <td>490.0</td>\n",
       "      <td>2017-01-24T22:20:59.818000</td>\n",
       "      <td>0</td>\n",
       "      <td>NaN</td>\n",
       "      <td>0.0</td>\n",
       "      <td>0</td>\n",
       "      <td>0</td>\n",
       "      <td>Withdrawn Application</td>\n",
       "      <td>1000.0</td>\n",
       "      <td>2592.39</td>\n",
       "      <td>MO</td>\n",
       "      <td>lead</td>\n",
       "      <td>25</td>\n",
       "      <td>NaN</td>\n",
       "      <td>5887d349e4b08f249ac45e2f</td>\n",
       "      <td>1</td>\n",
       "    </tr>\n",
       "    <tr>\n",
       "      <th>577679</th>\n",
       "      <td>LL-I-06962710</td>\n",
       "      <td>d7e55e85266208ac4c353f42ebcde5ca</td>\n",
       "      <td>B</td>\n",
       "      <td>590.0</td>\n",
       "      <td>2016-02-02T03:05:47.797000</td>\n",
       "      <td>0</td>\n",
       "      <td>NaN</td>\n",
       "      <td>0.0</td>\n",
       "      <td>0</td>\n",
       "      <td>0</td>\n",
       "      <td>Withdrawn Application</td>\n",
       "      <td>300.0</td>\n",
       "      <td>844.75</td>\n",
       "      <td>IN</td>\n",
       "      <td>bvMandatory</td>\n",
       "      <td>6</td>\n",
       "      <td>NaN</td>\n",
       "      <td>550b1f59e4b0d4592e28c84e</td>\n",
       "      <td>1</td>\n",
       "    </tr>\n",
       "    <tr>\n",
       "      <th>577680</th>\n",
       "      <td>LL-I-01253468</td>\n",
       "      <td>c3b35307cb36116bf59574f9138d3dad</td>\n",
       "      <td>B</td>\n",
       "      <td>550.0</td>\n",
       "      <td>2015-05-21T20:19:49.639000</td>\n",
       "      <td>0</td>\n",
       "      <td>NaN</td>\n",
       "      <td>0.0</td>\n",
       "      <td>0</td>\n",
       "      <td>0</td>\n",
       "      <td>Withdrawn Application</td>\n",
       "      <td>300.0</td>\n",
       "      <td>770.80</td>\n",
       "      <td>OH</td>\n",
       "      <td>organic</td>\n",
       "      <td>6</td>\n",
       "      <td>NaN</td>\n",
       "      <td>NaN</td>\n",
       "      <td>0</td>\n",
       "    </tr>\n",
       "    <tr>\n",
       "      <th>577681</th>\n",
       "      <td>LL-I-04733921</td>\n",
       "      <td>dc0a43b16c037ee5d0142daebb5db83a</td>\n",
       "      <td>I</td>\n",
       "      <td>590.0</td>\n",
       "      <td>2015-11-17T22:04:20.862000</td>\n",
       "      <td>0</td>\n",
       "      <td>NaN</td>\n",
       "      <td>0.0</td>\n",
       "      <td>0</td>\n",
       "      <td>0</td>\n",
       "      <td>Rejected</td>\n",
       "      <td>400.0</td>\n",
       "      <td>1214.63</td>\n",
       "      <td>OH</td>\n",
       "      <td>bvMandatory</td>\n",
       "      <td>6</td>\n",
       "      <td>NaN</td>\n",
       "      <td>564f801ae4b05a02bef951e8</td>\n",
       "      <td>1</td>\n",
       "    </tr>\n",
       "  </tbody>\n",
       "</table>\n",
       "</div>\n",
       "    <div class=\"colab-df-buttons\">\n",
       "\n",
       "  <div class=\"colab-df-container\">\n",
       "    <button class=\"colab-df-convert\" onclick=\"convertToInteractive('df-4e6dfbaf-fa45-4b60-8c07-7f9ac6d98c78')\"\n",
       "            title=\"Convert this dataframe to an interactive table.\"\n",
       "            style=\"display:none;\">\n",
       "\n",
       "  <svg xmlns=\"http://www.w3.org/2000/svg\" height=\"24px\" viewBox=\"0 -960 960 960\">\n",
       "    <path d=\"M120-120v-720h720v720H120Zm60-500h600v-160H180v160Zm220 220h160v-160H400v160Zm0 220h160v-160H400v160ZM180-400h160v-160H180v160Zm440 0h160v-160H620v160ZM180-180h160v-160H180v160Zm440 0h160v-160H620v160Z\"/>\n",
       "  </svg>\n",
       "    </button>\n",
       "\n",
       "  <style>\n",
       "    .colab-df-container {\n",
       "      display:flex;\n",
       "      gap: 12px;\n",
       "    }\n",
       "\n",
       "    .colab-df-convert {\n",
       "      background-color: #E8F0FE;\n",
       "      border: none;\n",
       "      border-radius: 50%;\n",
       "      cursor: pointer;\n",
       "      display: none;\n",
       "      fill: #1967D2;\n",
       "      height: 32px;\n",
       "      padding: 0 0 0 0;\n",
       "      width: 32px;\n",
       "    }\n",
       "\n",
       "    .colab-df-convert:hover {\n",
       "      background-color: #E2EBFA;\n",
       "      box-shadow: 0px 1px 2px rgba(60, 64, 67, 0.3), 0px 1px 3px 1px rgba(60, 64, 67, 0.15);\n",
       "      fill: #174EA6;\n",
       "    }\n",
       "\n",
       "    .colab-df-buttons div {\n",
       "      margin-bottom: 4px;\n",
       "    }\n",
       "\n",
       "    [theme=dark] .colab-df-convert {\n",
       "      background-color: #3B4455;\n",
       "      fill: #D2E3FC;\n",
       "    }\n",
       "\n",
       "    [theme=dark] .colab-df-convert:hover {\n",
       "      background-color: #434B5C;\n",
       "      box-shadow: 0px 1px 3px 1px rgba(0, 0, 0, 0.15);\n",
       "      filter: drop-shadow(0px 1px 2px rgba(0, 0, 0, 0.3));\n",
       "      fill: #FFFFFF;\n",
       "    }\n",
       "  </style>\n",
       "\n",
       "    <script>\n",
       "      const buttonEl =\n",
       "        document.querySelector('#df-4e6dfbaf-fa45-4b60-8c07-7f9ac6d98c78 button.colab-df-convert');\n",
       "      buttonEl.style.display =\n",
       "        google.colab.kernel.accessAllowed ? 'block' : 'none';\n",
       "\n",
       "      async function convertToInteractive(key) {\n",
       "        const element = document.querySelector('#df-4e6dfbaf-fa45-4b60-8c07-7f9ac6d98c78');\n",
       "        const dataTable =\n",
       "          await google.colab.kernel.invokeFunction('convertToInteractive',\n",
       "                                                    [key], {});\n",
       "        if (!dataTable) return;\n",
       "\n",
       "        const docLinkHtml = 'Like what you see? Visit the ' +\n",
       "          '<a target=\"_blank\" href=https://colab.research.google.com/notebooks/data_table.ipynb>data table notebook</a>'\n",
       "          + ' to learn more about interactive tables.';\n",
       "        element.innerHTML = '';\n",
       "        dataTable['output_type'] = 'display_data';\n",
       "        await google.colab.output.renderOutput(dataTable, element);\n",
       "        const docLink = document.createElement('div');\n",
       "        docLink.innerHTML = docLinkHtml;\n",
       "        element.appendChild(docLink);\n",
       "      }\n",
       "    </script>\n",
       "  </div>\n",
       "\n",
       "\n",
       "<div id=\"df-81d72443-66f2-473a-b89a-5fb1cab06100\">\n",
       "  <button class=\"colab-df-quickchart\" onclick=\"quickchart('df-81d72443-66f2-473a-b89a-5fb1cab06100')\"\n",
       "            title=\"Suggest charts\"\n",
       "            style=\"display:none;\">\n",
       "\n",
       "<svg xmlns=\"http://www.w3.org/2000/svg\" height=\"24px\"viewBox=\"0 0 24 24\"\n",
       "     width=\"24px\">\n",
       "    <g>\n",
       "        <path d=\"M19 3H5c-1.1 0-2 .9-2 2v14c0 1.1.9 2 2 2h14c1.1 0 2-.9 2-2V5c0-1.1-.9-2-2-2zM9 17H7v-7h2v7zm4 0h-2V7h2v10zm4 0h-2v-4h2v4z\"/>\n",
       "    </g>\n",
       "</svg>\n",
       "  </button>\n",
       "\n",
       "<style>\n",
       "  .colab-df-quickchart {\n",
       "      --bg-color: #E8F0FE;\n",
       "      --fill-color: #1967D2;\n",
       "      --hover-bg-color: #E2EBFA;\n",
       "      --hover-fill-color: #174EA6;\n",
       "      --disabled-fill-color: #AAA;\n",
       "      --disabled-bg-color: #DDD;\n",
       "  }\n",
       "\n",
       "  [theme=dark] .colab-df-quickchart {\n",
       "      --bg-color: #3B4455;\n",
       "      --fill-color: #D2E3FC;\n",
       "      --hover-bg-color: #434B5C;\n",
       "      --hover-fill-color: #FFFFFF;\n",
       "      --disabled-bg-color: #3B4455;\n",
       "      --disabled-fill-color: #666;\n",
       "  }\n",
       "\n",
       "  .colab-df-quickchart {\n",
       "    background-color: var(--bg-color);\n",
       "    border: none;\n",
       "    border-radius: 50%;\n",
       "    cursor: pointer;\n",
       "    display: none;\n",
       "    fill: var(--fill-color);\n",
       "    height: 32px;\n",
       "    padding: 0;\n",
       "    width: 32px;\n",
       "  }\n",
       "\n",
       "  .colab-df-quickchart:hover {\n",
       "    background-color: var(--hover-bg-color);\n",
       "    box-shadow: 0 1px 2px rgba(60, 64, 67, 0.3), 0 1px 3px 1px rgba(60, 64, 67, 0.15);\n",
       "    fill: var(--button-hover-fill-color);\n",
       "  }\n",
       "\n",
       "  .colab-df-quickchart-complete:disabled,\n",
       "  .colab-df-quickchart-complete:disabled:hover {\n",
       "    background-color: var(--disabled-bg-color);\n",
       "    fill: var(--disabled-fill-color);\n",
       "    box-shadow: none;\n",
       "  }\n",
       "\n",
       "  .colab-df-spinner {\n",
       "    border: 2px solid var(--fill-color);\n",
       "    border-color: transparent;\n",
       "    border-bottom-color: var(--fill-color);\n",
       "    animation:\n",
       "      spin 1s steps(1) infinite;\n",
       "  }\n",
       "\n",
       "  @keyframes spin {\n",
       "    0% {\n",
       "      border-color: transparent;\n",
       "      border-bottom-color: var(--fill-color);\n",
       "      border-left-color: var(--fill-color);\n",
       "    }\n",
       "    20% {\n",
       "      border-color: transparent;\n",
       "      border-left-color: var(--fill-color);\n",
       "      border-top-color: var(--fill-color);\n",
       "    }\n",
       "    30% {\n",
       "      border-color: transparent;\n",
       "      border-left-color: var(--fill-color);\n",
       "      border-top-color: var(--fill-color);\n",
       "      border-right-color: var(--fill-color);\n",
       "    }\n",
       "    40% {\n",
       "      border-color: transparent;\n",
       "      border-right-color: var(--fill-color);\n",
       "      border-top-color: var(--fill-color);\n",
       "    }\n",
       "    60% {\n",
       "      border-color: transparent;\n",
       "      border-right-color: var(--fill-color);\n",
       "    }\n",
       "    80% {\n",
       "      border-color: transparent;\n",
       "      border-right-color: var(--fill-color);\n",
       "      border-bottom-color: var(--fill-color);\n",
       "    }\n",
       "    90% {\n",
       "      border-color: transparent;\n",
       "      border-bottom-color: var(--fill-color);\n",
       "    }\n",
       "  }\n",
       "</style>\n",
       "\n",
       "  <script>\n",
       "    async function quickchart(key) {\n",
       "      const quickchartButtonEl =\n",
       "        document.querySelector('#' + key + ' button');\n",
       "      quickchartButtonEl.disabled = true;  // To prevent multiple clicks.\n",
       "      quickchartButtonEl.classList.add('colab-df-spinner');\n",
       "      try {\n",
       "        const charts = await google.colab.kernel.invokeFunction(\n",
       "            'suggestCharts', [key], {});\n",
       "      } catch (error) {\n",
       "        console.error('Error during call to suggestCharts:', error);\n",
       "      }\n",
       "      quickchartButtonEl.classList.remove('colab-df-spinner');\n",
       "      quickchartButtonEl.classList.add('colab-df-quickchart-complete');\n",
       "    }\n",
       "    (() => {\n",
       "      let quickchartButtonEl =\n",
       "        document.querySelector('#df-81d72443-66f2-473a-b89a-5fb1cab06100 button');\n",
       "      quickchartButtonEl.style.display =\n",
       "        google.colab.kernel.accessAllowed ? 'block' : 'none';\n",
       "    })();\n",
       "  </script>\n",
       "</div>\n",
       "\n",
       "    </div>\n",
       "  </div>\n"
      ],
      "text/plain": [
       "               loanId                          anon_ssn payFrequency    apr  \\\n",
       "577677  LL-I-12122269  801262d04720d32040612759857f4147            B  590.0   \n",
       "577678  LL-I-16183462  e37750de9d99a67e0fa96a51e86fdf5b            S  490.0   \n",
       "577679  LL-I-06962710  d7e55e85266208ac4c353f42ebcde5ca            B  590.0   \n",
       "577680  LL-I-01253468  c3b35307cb36116bf59574f9138d3dad            B  550.0   \n",
       "577681  LL-I-04733921  dc0a43b16c037ee5d0142daebb5db83a            I  590.0   \n",
       "\n",
       "                   applicationDate  originated originatedDate  nPaidOff  \\\n",
       "577677  2016-11-08T17:32:33.554000           0            NaN       0.0   \n",
       "577678  2017-01-24T22:20:59.818000           0            NaN       0.0   \n",
       "577679  2016-02-02T03:05:47.797000           0            NaN       0.0   \n",
       "577680  2015-05-21T20:19:49.639000           0            NaN       0.0   \n",
       "577681  2015-11-17T22:04:20.862000           0            NaN       0.0   \n",
       "\n",
       "        approved  isFunded             loanStatus  loanAmount  \\\n",
       "577677         0         0  Withdrawn Application       400.0   \n",
       "577678         0         0  Withdrawn Application      1000.0   \n",
       "577679         0         0  Withdrawn Application       300.0   \n",
       "577680         0         0  Withdrawn Application       300.0   \n",
       "577681         0         0               Rejected       400.0   \n",
       "\n",
       "        originallyScheduledPaymentAmount state     leadType  leadCost  \\\n",
       "577677                           1292.41    NV  bvMandatory         3   \n",
       "577678                           2592.39    MO         lead        25   \n",
       "577679                            844.75    IN  bvMandatory         6   \n",
       "577680                            770.80    OH      organic         6   \n",
       "577681                           1214.63    OH  bvMandatory         6   \n",
       "\n",
       "       fpStatus            clarityFraudId  hasCF  \n",
       "577677      NaN  58220cdde4b051c58d919c1f      1  \n",
       "577678      NaN  5887d349e4b08f249ac45e2f      1  \n",
       "577679      NaN  550b1f59e4b0d4592e28c84e      1  \n",
       "577680      NaN                       NaN      0  \n",
       "577681      NaN  564f801ae4b05a02bef951e8      1  "
      ]
     },
     "execution_count": 51,
     "metadata": {},
     "output_type": "execute_result"
    }
   ],
   "source": [
    "loan_df.tail()"
   ]
  },
  {
   "cell_type": "markdown",
   "metadata": {
    "id": "85AfMpNPDkMW"
   },
   "source": [
    "Next, we will get a quick description of all attributes in the DataFrame `loan_df`, including the index, columns, non-null values, dtype and memory usage."
   ]
  },
  {
   "cell_type": "code",
   "execution_count": 52,
   "metadata": {
    "colab": {
     "base_uri": "https://localhost:8080/"
    },
    "id": "bWlJU7AxDjnu",
    "outputId": "f4219740-cf4f-4020-f131-b6f70ec9d407"
   },
   "outputs": [
    {
     "name": "stdout",
     "output_type": "stream",
     "text": [
      "<class 'pandas.core.frame.DataFrame'>\n",
      "RangeIndex: 577682 entries, 0 to 577681\n",
      "Data columns (total 19 columns):\n",
      " #   Column                            Non-Null Count   Dtype  \n",
      "---  ------                            --------------   -----  \n",
      " 0   loanId                            577426 non-null  object \n",
      " 1   anon_ssn                          577682 non-null  object \n",
      " 2   payFrequency                      576409 non-null  object \n",
      " 3   apr                               573760 non-null  float64\n",
      " 4   applicationDate                   577682 non-null  object \n",
      " 5   originated                        577682 non-null  int64  \n",
      " 6   originatedDate                    46044 non-null   object \n",
      " 7   nPaidOff                          577658 non-null  float64\n",
      " 8   approved                          577682 non-null  int64  \n",
      " 9   isFunded                          577682 non-null  int64  \n",
      " 10  loanStatus                        577291 non-null  object \n",
      " 11  loanAmount                        575432 non-null  float64\n",
      " 12  originallyScheduledPaymentAmount  577682 non-null  float64\n",
      " 13  state                             577550 non-null  object \n",
      " 14  leadType                          577682 non-null  object \n",
      " 15  leadCost                          577682 non-null  int64  \n",
      " 16  fpStatus                          51723 non-null   object \n",
      " 17  clarityFraudId                    357693 non-null  object \n",
      " 18  hasCF                             577682 non-null  int64  \n",
      "dtypes: float64(4), int64(5), object(10)\n",
      "memory usage: 83.7+ MB\n"
     ]
    }
   ],
   "source": [
    "loan_df.info()"
   ]
  },
  {
   "cell_type": "markdown",
   "metadata": {
    "id": "PWxSKac2Dxsb"
   },
   "source": [
    "After we get the basic information about the DataFrame `loan_df`, we will analyze the numerical attributes."
   ]
  },
  {
   "cell_type": "code",
   "execution_count": 53,
   "metadata": {
    "colab": {
     "base_uri": "https://localhost:8080/",
     "height": 300
    },
    "id": "6vcrAPiHDxTL",
    "outputId": "af23c5cc-104e-4452-8548-360f99a966be"
   },
   "outputs": [
    {
     "data": {
      "application/vnd.google.colaboratory.intrinsic+json": {
       "summary": "{\n  \"name\": \"loan_df\",\n  \"rows\": 8,\n  \"fields\": [\n    {\n      \"column\": \"apr\",\n      \"properties\": {\n        \"dtype\": \"number\",\n        \"std\": 202700.91325638027,\n        \"min\": 0.0,\n        \"max\": 573760.0,\n        \"num_unique_values\": 8,\n        \"samples\": [\n          553.0809724431818,\n          590.0,\n          573760.0\n        ],\n        \"semantic_type\": \"\",\n        \"description\": \"\"\n      }\n    },\n    {\n      \"column\": \"originated\",\n      \"properties\": {\n        \"dtype\": \"number\",\n        \"std\": 204241.36158087096,\n        \"min\": 0.0,\n        \"max\": 577682.0,\n        \"num_unique_values\": 5,\n        \"samples\": [\n          0.07963897092171818,\n          1.0,\n          0.27073369223834975\n        ],\n        \"semantic_type\": \"\",\n        \"description\": \"\"\n      }\n    },\n    {\n      \"column\": \"nPaidOff\",\n      \"properties\": {\n        \"dtype\": \"number\",\n        \"std\": 204231.86522346828,\n        \"min\": 0.0,\n        \"max\": 577658.0,\n        \"num_unique_values\": 5,\n        \"samples\": [\n          0.03788746974853633,\n          21.0,\n          0.3333662674951583\n        ],\n        \"semantic_type\": \"\",\n        \"description\": \"\"\n      }\n    },\n    {\n      \"column\": \"approved\",\n      \"properties\": {\n        \"dtype\": \"number\",\n        \"std\": 204241.36294945268,\n        \"min\": 0.0,\n        \"max\": 577682.0,\n        \"num_unique_values\": 5,\n        \"samples\": [\n          0.0693045654875866,\n          1.0,\n          0.25397156208122623\n        ],\n        \"semantic_type\": \"\",\n        \"description\": \"\"\n      }\n    },\n    {\n      \"column\": \"isFunded\",\n      \"properties\": {\n        \"dtype\": \"number\",\n        \"std\": 204241.36319918124,\n        \"min\": 0.0,\n        \"max\": 577682.0,\n        \"num_unique_values\": 5,\n        \"samples\": [\n          0.06748003226688731,\n          1.0,\n          0.25085172202240097\n        ],\n        \"semantic_type\": \"\",\n        \"description\": \"\"\n      }\n    },\n    {\n      \"column\": \"loanAmount\",\n      \"properties\": {\n        \"dtype\": \"number\",\n        \"std\": 203089.57507898068,\n        \"min\": 0.0,\n        \"max\": 575432.0,\n        \"num_unique_values\": 7,\n        \"samples\": [\n          575432.0,\n          514.2450841280986,\n          500.0\n        ],\n        \"semantic_type\": \"\",\n        \"description\": \"\"\n      }\n    },\n    {\n      \"column\": \"originallyScheduledPaymentAmount\",\n      \"properties\": {\n        \"dtype\": \"number\",\n        \"std\": 203070.19558430745,\n        \"min\": -816.71,\n        \"max\": 577682.0,\n        \"num_unique_values\": 8,\n        \"samples\": [\n          1428.8972094959806,\n          1245.25,\n          577682.0\n        ],\n        \"semantic_type\": \"\",\n        \"description\": \"\"\n      }\n    },\n    {\n      \"column\": \"leadCost\",\n      \"properties\": {\n        \"dtype\": \"number\",\n        \"std\": 204229.68764631322,\n        \"min\": 0.0,\n        \"max\": 577682.0,\n        \"num_unique_values\": 7,\n        \"samples\": [\n          577682.0,\n          7.854388746749942,\n          6.0\n        ],\n        \"semantic_type\": \"\",\n        \"description\": \"\"\n      }\n    },\n    {\n      \"column\": \"hasCF\",\n      \"properties\": {\n        \"dtype\": \"number\",\n        \"std\": 204241.22246273773,\n        \"min\": 0.0,\n        \"max\": 577682.0,\n        \"num_unique_values\": 5,\n        \"samples\": [\n          0.6191866805612777,\n          1.0,\n          0.48558721497901847\n        ],\n        \"semantic_type\": \"\",\n        \"description\": \"\"\n      }\n    }\n  ]\n}",
       "type": "dataframe"
      },
      "text/html": [
       "\n",
       "  <div id=\"df-2d6052cf-3c29-45ef-bed9-0f48762f1b5b\" class=\"colab-df-container\">\n",
       "    <div>\n",
       "<style scoped>\n",
       "    .dataframe tbody tr th:only-of-type {\n",
       "        vertical-align: middle;\n",
       "    }\n",
       "\n",
       "    .dataframe tbody tr th {\n",
       "        vertical-align: top;\n",
       "    }\n",
       "\n",
       "    .dataframe thead th {\n",
       "        text-align: right;\n",
       "    }\n",
       "</style>\n",
       "<table border=\"1\" class=\"dataframe\">\n",
       "  <thead>\n",
       "    <tr style=\"text-align: right;\">\n",
       "      <th></th>\n",
       "      <th>apr</th>\n",
       "      <th>originated</th>\n",
       "      <th>nPaidOff</th>\n",
       "      <th>approved</th>\n",
       "      <th>isFunded</th>\n",
       "      <th>loanAmount</th>\n",
       "      <th>originallyScheduledPaymentAmount</th>\n",
       "      <th>leadCost</th>\n",
       "      <th>hasCF</th>\n",
       "    </tr>\n",
       "  </thead>\n",
       "  <tbody>\n",
       "    <tr>\n",
       "      <th>count</th>\n",
       "      <td>573760.000000</td>\n",
       "      <td>577682.000000</td>\n",
       "      <td>577658.000000</td>\n",
       "      <td>577682.000000</td>\n",
       "      <td>577682.000000</td>\n",
       "      <td>575432.000000</td>\n",
       "      <td>577682.000000</td>\n",
       "      <td>577682.000000</td>\n",
       "      <td>577682.000000</td>\n",
       "    </tr>\n",
       "    <tr>\n",
       "      <th>mean</th>\n",
       "      <td>553.080972</td>\n",
       "      <td>0.079639</td>\n",
       "      <td>0.037887</td>\n",
       "      <td>0.069305</td>\n",
       "      <td>0.067480</td>\n",
       "      <td>514.245084</td>\n",
       "      <td>1428.897209</td>\n",
       "      <td>7.854389</td>\n",
       "      <td>0.619187</td>\n",
       "    </tr>\n",
       "    <tr>\n",
       "      <th>std</th>\n",
       "      <td>110.046159</td>\n",
       "      <td>0.270734</td>\n",
       "      <td>0.333366</td>\n",
       "      <td>0.253972</td>\n",
       "      <td>0.250852</td>\n",
       "      <td>320.939929</td>\n",
       "      <td>925.009141</td>\n",
       "      <td>12.853451</td>\n",
       "      <td>0.485587</td>\n",
       "    </tr>\n",
       "    <tr>\n",
       "      <th>min</th>\n",
       "      <td>0.000000</td>\n",
       "      <td>0.000000</td>\n",
       "      <td>0.000000</td>\n",
       "      <td>0.000000</td>\n",
       "      <td>0.000000</td>\n",
       "      <td>0.000000</td>\n",
       "      <td>-816.710000</td>\n",
       "      <td>0.000000</td>\n",
       "      <td>0.000000</td>\n",
       "    </tr>\n",
       "    <tr>\n",
       "      <th>25%</th>\n",
       "      <td>490.000000</td>\n",
       "      <td>0.000000</td>\n",
       "      <td>0.000000</td>\n",
       "      <td>0.000000</td>\n",
       "      <td>0.000000</td>\n",
       "      <td>350.000000</td>\n",
       "      <td>1023.640000</td>\n",
       "      <td>3.000000</td>\n",
       "      <td>0.000000</td>\n",
       "    </tr>\n",
       "    <tr>\n",
       "      <th>50%</th>\n",
       "      <td>590.000000</td>\n",
       "      <td>0.000000</td>\n",
       "      <td>0.000000</td>\n",
       "      <td>0.000000</td>\n",
       "      <td>0.000000</td>\n",
       "      <td>500.000000</td>\n",
       "      <td>1245.250000</td>\n",
       "      <td>3.000000</td>\n",
       "      <td>1.000000</td>\n",
       "    </tr>\n",
       "    <tr>\n",
       "      <th>75%</th>\n",
       "      <td>601.000000</td>\n",
       "      <td>0.000000</td>\n",
       "      <td>0.000000</td>\n",
       "      <td>0.000000</td>\n",
       "      <td>0.000000</td>\n",
       "      <td>500.000000</td>\n",
       "      <td>1615.660000</td>\n",
       "      <td>6.000000</td>\n",
       "      <td>1.000000</td>\n",
       "    </tr>\n",
       "    <tr>\n",
       "      <th>max</th>\n",
       "      <td>705.590000</td>\n",
       "      <td>1.000000</td>\n",
       "      <td>21.000000</td>\n",
       "      <td>1.000000</td>\n",
       "      <td>1.000000</td>\n",
       "      <td>5000.000000</td>\n",
       "      <td>19963.630000</td>\n",
       "      <td>200.000000</td>\n",
       "      <td>1.000000</td>\n",
       "    </tr>\n",
       "  </tbody>\n",
       "</table>\n",
       "</div>\n",
       "    <div class=\"colab-df-buttons\">\n",
       "\n",
       "  <div class=\"colab-df-container\">\n",
       "    <button class=\"colab-df-convert\" onclick=\"convertToInteractive('df-2d6052cf-3c29-45ef-bed9-0f48762f1b5b')\"\n",
       "            title=\"Convert this dataframe to an interactive table.\"\n",
       "            style=\"display:none;\">\n",
       "\n",
       "  <svg xmlns=\"http://www.w3.org/2000/svg\" height=\"24px\" viewBox=\"0 -960 960 960\">\n",
       "    <path d=\"M120-120v-720h720v720H120Zm60-500h600v-160H180v160Zm220 220h160v-160H400v160Zm0 220h160v-160H400v160ZM180-400h160v-160H180v160Zm440 0h160v-160H620v160ZM180-180h160v-160H180v160Zm440 0h160v-160H620v160Z\"/>\n",
       "  </svg>\n",
       "    </button>\n",
       "\n",
       "  <style>\n",
       "    .colab-df-container {\n",
       "      display:flex;\n",
       "      gap: 12px;\n",
       "    }\n",
       "\n",
       "    .colab-df-convert {\n",
       "      background-color: #E8F0FE;\n",
       "      border: none;\n",
       "      border-radius: 50%;\n",
       "      cursor: pointer;\n",
       "      display: none;\n",
       "      fill: #1967D2;\n",
       "      height: 32px;\n",
       "      padding: 0 0 0 0;\n",
       "      width: 32px;\n",
       "    }\n",
       "\n",
       "    .colab-df-convert:hover {\n",
       "      background-color: #E2EBFA;\n",
       "      box-shadow: 0px 1px 2px rgba(60, 64, 67, 0.3), 0px 1px 3px 1px rgba(60, 64, 67, 0.15);\n",
       "      fill: #174EA6;\n",
       "    }\n",
       "\n",
       "    .colab-df-buttons div {\n",
       "      margin-bottom: 4px;\n",
       "    }\n",
       "\n",
       "    [theme=dark] .colab-df-convert {\n",
       "      background-color: #3B4455;\n",
       "      fill: #D2E3FC;\n",
       "    }\n",
       "\n",
       "    [theme=dark] .colab-df-convert:hover {\n",
       "      background-color: #434B5C;\n",
       "      box-shadow: 0px 1px 3px 1px rgba(0, 0, 0, 0.15);\n",
       "      filter: drop-shadow(0px 1px 2px rgba(0, 0, 0, 0.3));\n",
       "      fill: #FFFFFF;\n",
       "    }\n",
       "  </style>\n",
       "\n",
       "    <script>\n",
       "      const buttonEl =\n",
       "        document.querySelector('#df-2d6052cf-3c29-45ef-bed9-0f48762f1b5b button.colab-df-convert');\n",
       "      buttonEl.style.display =\n",
       "        google.colab.kernel.accessAllowed ? 'block' : 'none';\n",
       "\n",
       "      async function convertToInteractive(key) {\n",
       "        const element = document.querySelector('#df-2d6052cf-3c29-45ef-bed9-0f48762f1b5b');\n",
       "        const dataTable =\n",
       "          await google.colab.kernel.invokeFunction('convertToInteractive',\n",
       "                                                    [key], {});\n",
       "        if (!dataTable) return;\n",
       "\n",
       "        const docLinkHtml = 'Like what you see? Visit the ' +\n",
       "          '<a target=\"_blank\" href=https://colab.research.google.com/notebooks/data_table.ipynb>data table notebook</a>'\n",
       "          + ' to learn more about interactive tables.';\n",
       "        element.innerHTML = '';\n",
       "        dataTable['output_type'] = 'display_data';\n",
       "        await google.colab.output.renderOutput(dataTable, element);\n",
       "        const docLink = document.createElement('div');\n",
       "        docLink.innerHTML = docLinkHtml;\n",
       "        element.appendChild(docLink);\n",
       "      }\n",
       "    </script>\n",
       "  </div>\n",
       "\n",
       "\n",
       "<div id=\"df-14009f26-964f-471d-be58-f9078e463b4a\">\n",
       "  <button class=\"colab-df-quickchart\" onclick=\"quickchart('df-14009f26-964f-471d-be58-f9078e463b4a')\"\n",
       "            title=\"Suggest charts\"\n",
       "            style=\"display:none;\">\n",
       "\n",
       "<svg xmlns=\"http://www.w3.org/2000/svg\" height=\"24px\"viewBox=\"0 0 24 24\"\n",
       "     width=\"24px\">\n",
       "    <g>\n",
       "        <path d=\"M19 3H5c-1.1 0-2 .9-2 2v14c0 1.1.9 2 2 2h14c1.1 0 2-.9 2-2V5c0-1.1-.9-2-2-2zM9 17H7v-7h2v7zm4 0h-2V7h2v10zm4 0h-2v-4h2v4z\"/>\n",
       "    </g>\n",
       "</svg>\n",
       "  </button>\n",
       "\n",
       "<style>\n",
       "  .colab-df-quickchart {\n",
       "      --bg-color: #E8F0FE;\n",
       "      --fill-color: #1967D2;\n",
       "      --hover-bg-color: #E2EBFA;\n",
       "      --hover-fill-color: #174EA6;\n",
       "      --disabled-fill-color: #AAA;\n",
       "      --disabled-bg-color: #DDD;\n",
       "  }\n",
       "\n",
       "  [theme=dark] .colab-df-quickchart {\n",
       "      --bg-color: #3B4455;\n",
       "      --fill-color: #D2E3FC;\n",
       "      --hover-bg-color: #434B5C;\n",
       "      --hover-fill-color: #FFFFFF;\n",
       "      --disabled-bg-color: #3B4455;\n",
       "      --disabled-fill-color: #666;\n",
       "  }\n",
       "\n",
       "  .colab-df-quickchart {\n",
       "    background-color: var(--bg-color);\n",
       "    border: none;\n",
       "    border-radius: 50%;\n",
       "    cursor: pointer;\n",
       "    display: none;\n",
       "    fill: var(--fill-color);\n",
       "    height: 32px;\n",
       "    padding: 0;\n",
       "    width: 32px;\n",
       "  }\n",
       "\n",
       "  .colab-df-quickchart:hover {\n",
       "    background-color: var(--hover-bg-color);\n",
       "    box-shadow: 0 1px 2px rgba(60, 64, 67, 0.3), 0 1px 3px 1px rgba(60, 64, 67, 0.15);\n",
       "    fill: var(--button-hover-fill-color);\n",
       "  }\n",
       "\n",
       "  .colab-df-quickchart-complete:disabled,\n",
       "  .colab-df-quickchart-complete:disabled:hover {\n",
       "    background-color: var(--disabled-bg-color);\n",
       "    fill: var(--disabled-fill-color);\n",
       "    box-shadow: none;\n",
       "  }\n",
       "\n",
       "  .colab-df-spinner {\n",
       "    border: 2px solid var(--fill-color);\n",
       "    border-color: transparent;\n",
       "    border-bottom-color: var(--fill-color);\n",
       "    animation:\n",
       "      spin 1s steps(1) infinite;\n",
       "  }\n",
       "\n",
       "  @keyframes spin {\n",
       "    0% {\n",
       "      border-color: transparent;\n",
       "      border-bottom-color: var(--fill-color);\n",
       "      border-left-color: var(--fill-color);\n",
       "    }\n",
       "    20% {\n",
       "      border-color: transparent;\n",
       "      border-left-color: var(--fill-color);\n",
       "      border-top-color: var(--fill-color);\n",
       "    }\n",
       "    30% {\n",
       "      border-color: transparent;\n",
       "      border-left-color: var(--fill-color);\n",
       "      border-top-color: var(--fill-color);\n",
       "      border-right-color: var(--fill-color);\n",
       "    }\n",
       "    40% {\n",
       "      border-color: transparent;\n",
       "      border-right-color: var(--fill-color);\n",
       "      border-top-color: var(--fill-color);\n",
       "    }\n",
       "    60% {\n",
       "      border-color: transparent;\n",
       "      border-right-color: var(--fill-color);\n",
       "    }\n",
       "    80% {\n",
       "      border-color: transparent;\n",
       "      border-right-color: var(--fill-color);\n",
       "      border-bottom-color: var(--fill-color);\n",
       "    }\n",
       "    90% {\n",
       "      border-color: transparent;\n",
       "      border-bottom-color: var(--fill-color);\n",
       "    }\n",
       "  }\n",
       "</style>\n",
       "\n",
       "  <script>\n",
       "    async function quickchart(key) {\n",
       "      const quickchartButtonEl =\n",
       "        document.querySelector('#' + key + ' button');\n",
       "      quickchartButtonEl.disabled = true;  // To prevent multiple clicks.\n",
       "      quickchartButtonEl.classList.add('colab-df-spinner');\n",
       "      try {\n",
       "        const charts = await google.colab.kernel.invokeFunction(\n",
       "            'suggestCharts', [key], {});\n",
       "      } catch (error) {\n",
       "        console.error('Error during call to suggestCharts:', error);\n",
       "      }\n",
       "      quickchartButtonEl.classList.remove('colab-df-spinner');\n",
       "      quickchartButtonEl.classList.add('colab-df-quickchart-complete');\n",
       "    }\n",
       "    (() => {\n",
       "      let quickchartButtonEl =\n",
       "        document.querySelector('#df-14009f26-964f-471d-be58-f9078e463b4a button');\n",
       "      quickchartButtonEl.style.display =\n",
       "        google.colab.kernel.accessAllowed ? 'block' : 'none';\n",
       "    })();\n",
       "  </script>\n",
       "</div>\n",
       "\n",
       "    </div>\n",
       "  </div>\n"
      ],
      "text/plain": [
       "                 apr     originated       nPaidOff       approved  \\\n",
       "count  573760.000000  577682.000000  577658.000000  577682.000000   \n",
       "mean      553.080972       0.079639       0.037887       0.069305   \n",
       "std       110.046159       0.270734       0.333366       0.253972   \n",
       "min         0.000000       0.000000       0.000000       0.000000   \n",
       "25%       490.000000       0.000000       0.000000       0.000000   \n",
       "50%       590.000000       0.000000       0.000000       0.000000   \n",
       "75%       601.000000       0.000000       0.000000       0.000000   \n",
       "max       705.590000       1.000000      21.000000       1.000000   \n",
       "\n",
       "            isFunded     loanAmount  originallyScheduledPaymentAmount  \\\n",
       "count  577682.000000  575432.000000                     577682.000000   \n",
       "mean        0.067480     514.245084                       1428.897209   \n",
       "std         0.250852     320.939929                        925.009141   \n",
       "min         0.000000       0.000000                       -816.710000   \n",
       "25%         0.000000     350.000000                       1023.640000   \n",
       "50%         0.000000     500.000000                       1245.250000   \n",
       "75%         0.000000     500.000000                       1615.660000   \n",
       "max         1.000000    5000.000000                      19963.630000   \n",
       "\n",
       "            leadCost          hasCF  \n",
       "count  577682.000000  577682.000000  \n",
       "mean        7.854389       0.619187  \n",
       "std        12.853451       0.485587  \n",
       "min         0.000000       0.000000  \n",
       "25%         3.000000       0.000000  \n",
       "50%         3.000000       1.000000  \n",
       "75%         6.000000       1.000000  \n",
       "max       200.000000       1.000000  "
      ]
     },
     "execution_count": 53,
     "metadata": {},
     "output_type": "execute_result"
    }
   ],
   "source": [
    "loan_df.describe()"
   ]
  },
  {
   "cell_type": "markdown",
   "metadata": {
    "id": "HeuVO2q1E-7J"
   },
   "source": [
    "To create a representation of the distribution of data, we will plot the histogram of the DataFrame's columns with the number of bins is set to 50 and figure size is set to (20, 15)."
   ]
  },
  {
   "cell_type": "code",
   "execution_count": 54,
   "metadata": {
    "colab": {
     "base_uri": "https://localhost:8080/",
     "height": 1000
    },
    "id": "cncw16MNZFUz",
    "outputId": "dfeccbb2-d510-4fb9-be8c-535607de243b"
   },
   "outputs": [
    {
     "data": {
      "image/png": "[encoded data removed]",
      "text/plain": [
       "<Figure size 2000x1500 with 9 Axes>"
      ]
     },
     "metadata": {},
     "output_type": "display_data"
    }
   ],
   "source": [
    "loan_df.hist(bins = 50, figsize = (20, 15))\n",
    "plt.show()"
   ]
  },
  {
   "cell_type": "markdown",
   "metadata": {
    "id": "8SFLukHaaiyf"
   },
   "source": [
    "Based on the histograms above, we can observe some issues. The following code plots the line within the histogram to see whether the data distribution is skewed by using Seaborn library."
   ]
  },
  {
   "cell_type": "code",
   "execution_count": 55,
   "metadata": {
    "colab": {
     "base_uri": "https://localhost:8080/",
     "height": 1000
    },
    "id": "0tFF-2CNE-dA",
    "outputId": "9ea6db0a-ad30-4a67-a2cd-0ac3645e9015"
   },
   "outputs": [
    {
     "data": {
      "image/png": "[encoded data removed]",
      "text/plain": [
       "<Figure size 500x500 with 1 Axes>"
      ]
     },
     "metadata": {},
     "output_type": "display_data"
    },
    {
     "data": {
      "image/png": "[encoded data removed]",
      "text/plain": [
       "<Figure size 500x500 with 1 Axes>"
      ]
     },
     "metadata": {},
     "output_type": "display_data"
    },
    {
     "data": {
      "image/png": "[encoded data removed]",
      "text/plain": [
       "<Figure size 500x500 with 1 Axes>"
      ]
     },
     "metadata": {},
     "output_type": "display_data"
    }
   ],
   "source": [
    "sns.set(rc={\"figure.figsize\": (5, 5)})\n",
    "sns.histplot(loan_df[\"loanAmount\"], bins = 30)\n",
    "plt.show()\n",
    "sns.set(rc={\"figure.figsize\": (5, 5)})\n",
    "sns.histplot(loan_df[\"originallyScheduledPaymentAmount\"], bins = 30)\n",
    "plt.show()\n",
    "sns.set(rc={\"figure.figsize\": (5, 5)})\n",
    "sns.histplot(loan_df[\"leadCost\"], bins = 30)\n",
    "plt.show()"
   ]
  },
  {
   "cell_type": "markdown",
   "metadata": {
    "id": "YTr0OJzIKo59"
   },
   "source": [
    "After analyzing numerical data, we will analyze the categorical attributes."
   ]
  },
  {
   "cell_type": "code",
   "execution_count": 56,
   "metadata": {
    "colab": {
     "base_uri": "https://localhost:8080/"
    },
    "id": "wMbAemY1Kq0Q",
    "outputId": "2b644ca7-8c92-47d4-e4da-80c85db88302"
   },
   "outputs": [
    {
     "name": "stdout",
     "output_type": "stream",
     "text": [
      "payFrequency\n",
      "B    316654\n",
      "W    137188\n",
      "M     59092\n",
      "I     33787\n",
      "S     29688\n",
      "Name: count, dtype: int64\n"
     ]
    }
   ],
   "source": [
    "print(loan_df[\"payFrequency\"].value_counts())"
   ]
  },
  {
   "cell_type": "code",
   "execution_count": 57,
   "metadata": {
    "colab": {
     "base_uri": "https://localhost:8080/"
    },
    "id": "5H_ZiTg6MaIc",
    "outputId": "930eea4c-2b3f-4262-9e6b-e49f4b08809a"
   },
   "outputs": [
    {
     "name": "stdout",
     "output_type": "stream",
     "text": [
      "state\n",
      "OH         90496\n",
      "IL         66710\n",
      "TX         49729\n",
      "MO         49249\n",
      "WI         40349\n",
      "MI         34635\n",
      "TN         32991\n",
      "NC         26962\n",
      "FL         25896\n",
      "IN         25781\n",
      "SC         23925\n",
      "CA         22691\n",
      "NV         11477\n",
      "PA          9723\n",
      "VA          9197\n",
      "NJ          7641\n",
      "UT          6742\n",
      "AL          4327\n",
      "MS          3786\n",
      "CO          3615\n",
      "LA          3431\n",
      "AZ          3355\n",
      "NM          3231\n",
      "KY          2911\n",
      "SD          2212\n",
      "MN          2078\n",
      "GA          1763\n",
      "OK          1758\n",
      "WY          1715\n",
      "CT          1468\n",
      "WA          1384\n",
      "KS          1227\n",
      "IA          1043\n",
      "DE           880\n",
      "ID           722\n",
      "RI           689\n",
      "NE           635\n",
      "HI           621\n",
      "AK           290\n",
      "ND           207\n",
      "NY             3\n",
      "MD             3\n",
      "OH-TEST        1\n",
      "TX-TEST        1\n",
      "Name: count, dtype: int64\n"
     ]
    }
   ],
   "source": [
    "print(loan_df[\"state\"].value_counts())"
   ]
  },
  {
   "cell_type": "code",
   "execution_count": 58,
   "metadata": {
    "colab": {
     "base_uri": "https://localhost:8080/"
    },
    "id": "XXDj2QOhMb0W",
    "outputId": "d9f95d91-dbce-4747-e41d-c08e32bb0712"
   },
   "outputs": [
    {
     "name": "stdout",
     "output_type": "stream",
     "text": [
      "leadType\n",
      "bvMandatory      475001\n",
      "lead              72673\n",
      "organic           22851\n",
      "prescreen          4515\n",
      "rc_returning       2069\n",
      "california          479\n",
      "lionpay              26\n",
      "repeat               24\n",
      "instant-offer        22\n",
      "express              22\n",
      "Name: count, dtype: int64\n"
     ]
    }
   ],
   "source": [
    "print(loan_df[\"leadType\"].value_counts())"
   ]
  },
  {
   "cell_type": "code",
   "execution_count": 59,
   "metadata": {
    "colab": {
     "base_uri": "https://localhost:8080/"
    },
    "id": "iMf7VnneMkE9",
    "outputId": "6eab4cb4-eccd-4b1c-d950-bb663d4cd352"
   },
   "outputs": [
    {
     "name": "stdout",
     "output_type": "stream",
     "text": [
      "fpStatus\n",
      "Checked        32978\n",
      "No Payments    11427\n",
      "Rejected        5522\n",
      "No Schedule     1323\n",
      "Cancelled        249\n",
      "Skipped          218\n",
      "Pending            5\n",
      "Returned           1\n",
      "Name: count, dtype: int64\n"
     ]
    }
   ],
   "source": [
    "print(loan_df[\"fpStatus\"].value_counts())"
   ]
  },
  {
   "cell_type": "markdown",
   "metadata": {
    "id": "Ul3tDUuuXpOD"
   },
   "source": [
    "To see the distribution of the categorical attribute, we will visualize the categorical data by using countplot."
   ]
  },
  {
   "cell_type": "code",
   "execution_count": 60,
   "metadata": {
    "colab": {
     "base_uri": "https://localhost:8080/",
     "height": 490
    },
    "id": "f-4c8yiUSn_4",
    "outputId": "a5e273e0-c308-4013-bae3-2fc883e56142"
   },
   "outputs": [
    {
     "data": {
      "text/plain": [
       "<Axes: xlabel='payFrequency', ylabel='count'>"
      ]
     },
     "execution_count": 60,
     "metadata": {},
     "output_type": "execute_result"
    },
    {
     "data": {
      "image/png": "[encoded data removed]",
      "text/plain": [
       "<Figure size 500x500 with 1 Axes>"
      ]
     },
     "metadata": {},
     "output_type": "display_data"
    }
   ],
   "source": [
    "sns.countplot(x = loan_df[\"payFrequency\"], data = loan_df)"
   ]
  },
  {
   "cell_type": "markdown",
   "metadata": {
    "id": "MZCTUxwKXsq3"
   },
   "source": [
    "After analyzing categorical data, we will analyze the targeted variable *loanStatus*."
   ]
  },
  {
   "cell_type": "code",
   "execution_count": 61,
   "metadata": {
    "colab": {
     "base_uri": "https://localhost:8080/"
    },
    "id": "15VZbgA8Qy1p",
    "outputId": "a6699be5-4e7c-4993-ba8f-8f7e9d321ff9"
   },
   "outputs": [
    {
     "name": "stdout",
     "output_type": "stream",
     "text": [
      "loanStatus\n",
      "Withdrawn Application          450984\n",
      "Rejected                        85070\n",
      "Paid Off Loan                   11427\n",
      "External Collection             11334\n",
      "New Loan                         8112\n",
      "Internal Collection              5567\n",
      "Returned Item                    1182\n",
      "CSR Voided New Loan              1026\n",
      "Settlement Paid Off               708\n",
      "Credit Return Void                704\n",
      "Customer Voided New Loan          504\n",
      "Settled Bankruptcy                326\n",
      "Pending Paid Off                  169\n",
      "Charged Off Paid Off              160\n",
      "Pending Application Fee             5\n",
      "Pending Rescind                     4\n",
      "Pending Application                 4\n",
      "Voided New Loan                     2\n",
      "Charged Off                         1\n",
      "Customver Voided New Loan           1\n",
      "Settlement Pending Paid Off         1\n",
      "Name: count, dtype: int64\n"
     ]
    }
   ],
   "source": [
    "print(loan_df[\"loanStatus\"].value_counts())"
   ]
  },
  {
   "cell_type": "markdown",
   "metadata": {
    "id": "Y03QwQMuDEtD"
   },
   "source": [
    "##4. Data Preprocessing"
   ]
  },
  {
   "cell_type": "markdown",
   "metadata": {
    "id": "sP6LESOfifT_"
   },
   "source": [
    "### Feature Engineering"
   ]
  },
  {
   "cell_type": "code",
   "execution_count": 62,
   "metadata": {
    "id": "9nAshtAsiOoL"
   },
   "outputs": [],
   "source": [
    "X = loan_df.drop(columns=['loanId', 'anon_ssn', 'applicationDate', 'originatedDate', 'loanStatus', 'clarityFraudId', 'hasCF'], axis=1)\n",
    "y = loan_df['loanStatus']"
   ]
  },
  {
   "cell_type": "code",
   "execution_count": 63,
   "metadata": {
    "colab": {
     "base_uri": "https://localhost:8080/"
    },
    "id": "KvBlPRWPnH1j",
    "outputId": "43ac688e-52ba-47fe-fb39-8b632aae9c66"
   },
   "outputs": [
    {
     "name": "stdout",
     "output_type": "stream",
     "text": [
      "Index(['payFrequency', 'apr', 'originated', 'nPaidOff', 'approved', 'isFunded',\n",
      "       'loanAmount', 'originallyScheduledPaymentAmount', 'state', 'leadType',\n",
      "       'leadCost', 'fpStatus'],\n",
      "      dtype='object')\n"
     ]
    }
   ],
   "source": [
    "valid_columns = X.columns\n",
    "print(valid_columns)"
   ]
  },
  {
   "cell_type": "code",
   "execution_count": 64,
   "metadata": {
    "colab": {
     "base_uri": "https://localhost:8080/"
    },
    "id": "HZIJLkSVoSxn",
    "outputId": "1c0c9126-93ce-4810-96cd-5ef1c40ea65f"
   },
   "outputs": [
    {
     "name": "stdout",
     "output_type": "stream",
     "text": [
      "Shape of original dataset, train: (577682, 19)\n",
      "X shape: (577682, 12) type= <class 'pandas.core.frame.DataFrame'>\n",
      "y shape: (577682,) type= <class 'pandas.core.series.Series'>\n"
     ]
    }
   ],
   "source": [
    "print('Shape of original dataset, train:', loan_df.shape)\n",
    "print('X shape:', X.shape, 'type=', type(X))\n",
    "print('y shape:', y.shape, 'type=', type(y))"
   ]
  },
  {
   "cell_type": "code",
   "execution_count": 65,
   "metadata": {
    "colab": {
     "base_uri": "https://localhost:8080/"
    },
    "id": "KuYiKo2UVA1G",
    "outputId": "dd54d889-9453-4d91-d470-c0bdc40bb1bf"
   },
   "outputs": [
    {
     "name": "stdout",
     "output_type": "stream",
     "text": [
      "X_num shape: (577682, 8)\n",
      "X_cat shape: (577682, 4)\n"
     ]
    }
   ],
   "source": [
    "X_num = X.drop([\"payFrequency\", \"state\", \"leadType\", \"fpStatus\"], axis=1)\n",
    "X_cat = X[[\"payFrequency\", \"state\", \"leadType\", \"fpStatus\"]]\n",
    "\n",
    "print('X_num shape:', X_num.shape)\n",
    "print('X_cat shape:', X_cat.shape)"
   ]
  },
  {
   "cell_type": "markdown",
   "metadata": {
    "id": "drUwNHDZi2XN"
   },
   "source": [
    "### Handle missing values"
   ]
  },
  {
   "cell_type": "code",
   "execution_count": 66,
   "metadata": {
    "colab": {
     "base_uri": "https://localhost:8080/"
    },
    "id": "0jJ6bCWfvSLE",
    "outputId": "01f7bba1-a266-4a1b-cfe8-a4e1df1bce11"
   },
   "outputs": [
    {
     "name": "stdout",
     "output_type": "stream",
     "text": [
      "Number of missing values for all X_num columns:\n"
     ]
    },
    {
     "data": {
      "text/plain": [
       "apr                                 3922\n",
       "originated                             0\n",
       "nPaidOff                              24\n",
       "approved                               0\n",
       "isFunded                               0\n",
       "loanAmount                          2250\n",
       "originallyScheduledPaymentAmount       0\n",
       "leadCost                               0\n",
       "dtype: int64"
      ]
     },
     "execution_count": 66,
     "metadata": {},
     "output_type": "execute_result"
    }
   ],
   "source": [
    "print(\"Number of missing values for all X_num columns:\")\n",
    "X_num.isnull().sum()"
   ]
  },
  {
   "cell_type": "code",
   "execution_count": 67,
   "metadata": {
    "id": "75Fv1_T90qrf"
   },
   "outputs": [],
   "source": [
    "numeric_columns = ['apr', 'nPaidOff', 'loanAmount']\n",
    "X_num[numeric_columns] = X_num[numeric_columns].fillna(0)"
   ]
  },
  {
   "cell_type": "code",
   "execution_count": 68,
   "metadata": {
    "colab": {
     "base_uri": "https://localhost:8080/"
    },
    "id": "r2gbEKJg1GBb",
    "outputId": "6f74471d-0555-40ca-92ad-352a95776dbc"
   },
   "outputs": [
    {
     "data": {
      "text/plain": [
       "apr                                 0\n",
       "originated                          0\n",
       "nPaidOff                            0\n",
       "approved                            0\n",
       "isFunded                            0\n",
       "loanAmount                          0\n",
       "originallyScheduledPaymentAmount    0\n",
       "leadCost                            0\n",
       "dtype: int64"
      ]
     },
     "execution_count": 68,
     "metadata": {},
     "output_type": "execute_result"
    }
   ],
   "source": [
    "X_num.isnull().sum()"
   ]
  },
  {
   "cell_type": "code",
   "execution_count": 69,
   "metadata": {
    "colab": {
     "base_uri": "https://localhost:8080/"
    },
    "id": "3vzGLmWXvvTc",
    "outputId": "d1fa1411-1186-4d12-c5a4-08ff43ccd594"
   },
   "outputs": [
    {
     "name": "stdout",
     "output_type": "stream",
     "text": [
      "Number of missing values for all X_train_cat columns:\n"
     ]
    },
    {
     "data": {
      "text/plain": [
       "payFrequency      1273\n",
       "state              132\n",
       "leadType             0\n",
       "fpStatus        525959\n",
       "dtype: int64"
      ]
     },
     "execution_count": 69,
     "metadata": {},
     "output_type": "execute_result"
    }
   ],
   "source": [
    "print(\"Number of missing values for all X_train_cat columns:\")\n",
    "X_cat.isnull().sum()"
   ]
  },
  {
   "cell_type": "code",
   "execution_count": 70,
   "metadata": {
    "id": "5HDAg3BN3D1X"
   },
   "outputs": [],
   "source": [
    "X_cat.loc[:, 'payFrequency'] = X_cat['payFrequency'].fillna('N') # N - Not applicable"
   ]
  },
  {
   "cell_type": "code",
   "execution_count": 71,
   "metadata": {
    "id": "T1WI-3653ojE"
   },
   "outputs": [],
   "source": [
    "X_cat.loc[:, 'state'] = X_cat['state'].fillna('N') # N - Not applicable"
   ]
  },
  {
   "cell_type": "code",
   "execution_count": 72,
   "metadata": {
    "id": "5tDXSd4y3cFV"
   },
   "outputs": [],
   "source": [
    "X_cat.loc[:, 'fpStatus'] = X_cat['fpStatus'].fillna('None')"
   ]
  },
  {
   "cell_type": "code",
   "execution_count": 73,
   "metadata": {
    "colab": {
     "base_uri": "https://localhost:8080/"
    },
    "id": "9DAYfzdX1p3Y",
    "outputId": "19ae0add-fda7-44e4-94a4-a5d2914a5263"
   },
   "outputs": [
    {
     "data": {
      "text/plain": [
       "payFrequency    0\n",
       "state           0\n",
       "leadType        0\n",
       "fpStatus        0\n",
       "dtype: int64"
      ]
     },
     "execution_count": 73,
     "metadata": {},
     "output_type": "execute_result"
    }
   ],
   "source": [
    "X_cat.isnull().sum()"
   ]
  },
  {
   "cell_type": "markdown",
   "metadata": {
    "id": "iTKswh7I6TYf"
   },
   "source": [
    "### Standardization for num dataset\n",
    " As observed earlier, the features in our input matrix have different scales. Some machine learning algorithm cannot handle features with varying scales very well. Therefore, we perform  standardization on the features so that all the features have a mean of 0 and a standard deviation of 1."
   ]
  },
  {
   "cell_type": "code",
   "execution_count": 74,
   "metadata": {
    "colab": {
     "base_uri": "https://localhost:8080/"
    },
    "id": "V7H1b5ax5Kt_",
    "outputId": "c5944bcc-b6e5-4313-8101-8fa8ef810897"
   },
   "outputs": [
    {
     "name": "stdout",
     "output_type": "stream",
     "text": [
      "Mean of all column:\n",
      " [-5.78414815e-16 -5.21515505e-18  3.91382627e-17 -2.75394626e-17\n",
      "  1.21153956e-17 -8.51767659e-17 -4.88244292e-17 -3.27177180e-18]\n",
      "Std of all column:\n",
      " [1. 1. 1. 1. 1. 1. 1. 1.]\n"
     ]
    }
   ],
   "source": [
    "from sklearn.preprocessing import StandardScaler\n",
    "scaler = StandardScaler(copy = False)\n",
    "scaler.fit(X_num)\n",
    "X_num_tr = scaler.transform(X_num)\n",
    "\n",
    "print(\"Mean of all column:\\n\", X_num_tr.mean(axis=0))\n",
    "print(\"Std of all column:\\n\", X_num_tr.std(axis=0))"
   ]
  },
  {
   "cell_type": "markdown",
   "metadata": {
    "id": "ZWIRukCzAHvO"
   },
   "source": [
    "### One-Hot Encoding\n",
    " Most machine learning can only handle numerical inputs. There are several categorical features in our dataset, namely payFrequency, state, leadType, and fpStatus. The categorical features are nominal data type since it has no order information. Therefore, the feature will be encoded using **one-hot encoding**."
   ]
  },
  {
   "cell_type": "code",
   "execution_count": 75,
   "metadata": {
    "colab": {
     "base_uri": "https://localhost:8080/"
    },
    "id": "EaPUIdR-AFCK",
    "outputId": "ce541224-99c9-421e-c694-692342be2f72"
   },
   "outputs": [
    {
     "name": "stdout",
     "output_type": "stream",
     "text": [
      "Shape of X_cat_payFrequency_tr: (577682, 6) \n",
      "\n",
      "[[1 0 0 0 0 0]\n",
      " [1 0 0 0 0 0]\n",
      " [1 0 0 0 0 0]\n",
      " ...\n",
      " [1 0 0 0 0 0]\n",
      " [1 0 0 0 0 0]\n",
      " [0 1 0 0 0 0]] \n",
      "\n",
      "Possible values of payFrequency:\n",
      " ['B' 'I' 'M' 'N' 'S' 'W'] \n",
      "\n",
      "Shape of X_cat_state_tr: (577682, 45) \n",
      "\n",
      "[[0 0 0 ... 0 0 0]\n",
      " [0 0 0 ... 0 0 0]\n",
      " [0 0 0 ... 0 0 0]\n",
      " ...\n",
      " [0 0 0 ... 0 0 0]\n",
      " [0 0 0 ... 0 0 0]\n",
      " [0 0 0 ... 0 0 0]] \n",
      "\n",
      "Possible values of state:\n",
      " ['AK' 'AL' 'AZ' 'CA' 'CO' 'CT' 'DE' 'FL' 'GA' 'HI' 'IA' 'ID' 'IL' 'IN'\n",
      " 'KS' 'KY' 'LA' 'MD' 'MI' 'MN' 'MO' 'MS' 'N' 'NC' 'ND' 'NE' 'NJ' 'NM' 'NV'\n",
      " 'NY' 'OH' 'OH-TEST' 'OK' 'PA' 'RI' 'SC' 'SD' 'TN' 'TX' 'TX-TEST' 'UT'\n",
      " 'VA' 'WA' 'WI' 'WY'] \n",
      "\n",
      "Shape of X_cat_leadType_tr: (577682, 10) \n",
      "\n",
      "[[1 0 0 ... 0 0 0]\n",
      " [0 0 0 ... 1 0 0]\n",
      " [1 0 0 ... 0 0 0]\n",
      " ...\n",
      " [1 0 0 ... 0 0 0]\n",
      " [0 0 0 ... 0 0 0]\n",
      " [1 0 0 ... 0 0 0]] \n",
      "\n",
      "Possible values of leadType:\n",
      " ['bvMandatory' 'california' 'express' 'instant-offer' 'lead' 'lionpay'\n",
      " 'organic' 'prescreen' 'rc_returning' 'repeat'] \n",
      "\n",
      "Shape of X_cat_fpStatus_tr: (577682, 9) \n",
      "\n",
      "[[0 0 0 ... 0 0 0]\n",
      " [0 1 0 ... 0 0 0]\n",
      " [0 0 0 ... 0 0 0]\n",
      " ...\n",
      " [0 0 0 ... 0 0 0]\n",
      " [0 0 0 ... 0 0 0]\n",
      " [0 0 0 ... 0 0 0]] \n",
      "\n",
      "Possible values of fpStatus:\n",
      " ['Cancelled' 'Checked' 'No Payments' 'No Schedule' 'None' 'Pending'\n",
      " 'Rejected' 'Returned' 'Skipped'] \n",
      "\n"
     ]
    }
   ],
   "source": [
    "from sklearn.preprocessing import LabelBinarizer\n",
    "\n",
    "lb_encoder = LabelBinarizer()\n",
    "lb_encoder.fit(X_cat[\"payFrequency\"])\n",
    "X_cat_payFrequency_tr = lb_encoder.transform(X_cat[\"payFrequency\"]) # return as numpy\n",
    "\n",
    "print('Shape of X_cat_payFrequency_tr:', X_cat_payFrequency_tr.shape, '\\n')\n",
    "print(X_cat_payFrequency_tr, '\\n')\n",
    "print('Possible values of payFrequency:\\n', lb_encoder.classes_, '\\n')\n",
    "\n",
    "lb_encoder.fit(X_cat[\"state\"])\n",
    "X_cat_state_tr = lb_encoder.transform(X_cat[\"state\"]) # return as numpy\n",
    "\n",
    "print('Shape of X_cat_state_tr:', X_cat_state_tr.shape, '\\n')\n",
    "print(X_cat_state_tr, '\\n')\n",
    "print('Possible values of state:\\n', lb_encoder.classes_, '\\n')\n",
    "\n",
    "lb_encoder.fit(X_cat[\"leadType\"])\n",
    "X_cat_leadType_tr = lb_encoder.transform(X_cat[\"leadType\"]) # return as numpy\n",
    "\n",
    "print('Shape of X_cat_leadType_tr:', X_cat_leadType_tr.shape, '\\n')\n",
    "print(X_cat_leadType_tr, '\\n')\n",
    "print('Possible values of leadType:\\n', lb_encoder.classes_, '\\n')\n",
    "\n",
    "lb_encoder.fit(X_cat[\"fpStatus\"])\n",
    "X_cat_fpStatus_tr = lb_encoder.transform(X_cat[\"fpStatus\"]) # return as numpy\n",
    "\n",
    "print('Shape of X_cat_fpStatus_tr:', X_cat_fpStatus_tr.shape, '\\n')\n",
    "print(X_cat_fpStatus_tr, '\\n')\n",
    "print('Possible values of fpStatus:\\n', lb_encoder.classes_, '\\n')"
   ]
  },
  {
   "cell_type": "code",
   "execution_count": 76,
   "metadata": {
    "colab": {
     "base_uri": "https://localhost:8080/"
    },
    "id": "xr1zXzjxOR8W",
    "outputId": "0aa99a2c-d9b0-435e-e620-51eff7fb40ef"
   },
   "outputs": [
    {
     "name": "stdout",
     "output_type": "stream",
     "text": [
      "[[1 0 0 ... 0 0 0]\n",
      " [1 0 0 ... 0 0 0]\n",
      " [1 0 0 ... 0 0 0]\n",
      " ...\n",
      " [1 0 0 ... 0 0 0]\n",
      " [1 0 0 ... 0 0 0]\n",
      " [0 1 0 ... 0 0 0]]\n",
      "(577682, 70)\n"
     ]
    }
   ],
   "source": [
    "X_cat_tr = np.hstack([X_cat_payFrequency_tr, X_cat_state_tr, X_cat_leadType_tr, X_cat_fpStatus_tr])\n",
    "print(X_cat_tr)\n",
    "print(X_cat_tr.shape)"
   ]
  },
  {
   "cell_type": "code",
   "execution_count": 77,
   "metadata": {
    "colab": {
     "base_uri": "https://localhost:8080/"
    },
    "id": "6NdNUe6QaR65",
    "outputId": "f1df3398-d9bb-4d45-d192-e15259c03fec"
   },
   "outputs": [
    {
     "name": "stdout",
     "output_type": "stream",
     "text": [
      "Number of missing values for all y column:\n"
     ]
    },
    {
     "data": {
      "text/plain": [
       "391"
      ]
     },
     "execution_count": 77,
     "metadata": {},
     "output_type": "execute_result"
    }
   ],
   "source": [
    "print(\"Number of missing values for all y column:\")\n",
    "y.isnull().sum()"
   ]
  },
  {
   "cell_type": "code",
   "execution_count": 78,
   "metadata": {
    "colab": {
     "base_uri": "https://localhost:8080/"
    },
    "id": "T8CbZXEHakG9",
    "outputId": "6fab1c62-8752-4902-d3e8-716c3d36447c"
   },
   "outputs": [
    {
     "data": {
      "text/plain": [
       "0"
      ]
     },
     "execution_count": 78,
     "metadata": {},
     "output_type": "execute_result"
    }
   ],
   "source": [
    "y.fillna('Not Available', inplace=True)\n",
    "y.isnull().sum()"
   ]
  },
  {
   "cell_type": "code",
   "execution_count": 79,
   "metadata": {
    "colab": {
     "base_uri": "https://localhost:8080/"
    },
    "id": "eJi-lmUzY_5j",
    "outputId": "9fa858c6-5c52-4797-e4d3-ff845e80ce63"
   },
   "outputs": [
    {
     "name": "stdout",
     "output_type": "stream",
     "text": [
      "Shape of y_tr: (577682,) \n",
      "\n",
      "[21 10 21 ... 21 21 15] \n",
      "\n",
      "Possible values of loan status:\n",
      " ['CSR Voided New Loan' 'Charged Off' 'Charged Off Paid Off'\n",
      " 'Credit Return Void' 'Customer Voided New Loan'\n",
      " 'Customver Voided New Loan' 'External Collection' 'Internal Collection'\n",
      " 'New Loan' 'Not Available' 'Paid Off Loan' 'Pending Application'\n",
      " 'Pending Application Fee' 'Pending Paid Off' 'Pending Rescind' 'Rejected'\n",
      " 'Returned Item' 'Settled Bankruptcy' 'Settlement Paid Off'\n",
      " 'Settlement Pending Paid Off' 'Voided New Loan' 'Withdrawn Application'] \n",
      "\n"
     ]
    }
   ],
   "source": [
    "from sklearn.preprocessing import LabelEncoder\n",
    "le = LabelEncoder()\n",
    "le.fit(y)\n",
    "y_tr = le.transform(y) # return as numpy\n",
    "\n",
    "print('Shape of y_tr:', y_tr.shape, '\\n')\n",
    "print(y_tr, '\\n')\n",
    "print('Possible values of loan status:\\n', le.classes_, '\\n')"
   ]
  },
  {
   "cell_type": "code",
   "execution_count": 80,
   "metadata": {
    "colab": {
     "base_uri": "https://localhost:8080/"
    },
    "id": "ZqqCXGSPXRaC",
    "outputId": "839483eb-56b3-4e57-add2-fde7bcc72599"
   },
   "outputs": [
    {
     "name": "stdout",
     "output_type": "stream",
     "text": [
      "X_tr shape: (577682, 78)\n",
      "y_tr shape: (577682,)\n"
     ]
    }
   ],
   "source": [
    "X_tr = np.hstack([X_num_tr, X_cat_tr])\n",
    "print('X_tr shape:', X_tr.shape)\n",
    "print('y_tr shape:', y_tr.shape)"
   ]
  },
  {
   "cell_type": "markdown",
   "metadata": {
    "id": "xnKkI3-OiPOO"
   },
   "source": [
    "### Split the dataset into training and testing set\n",
    " After cleaning and transforming our data, we can now split the dataset into training and testing set using **Random Sampling**."
   ]
  },
  {
   "cell_type": "code",
   "execution_count": 81,
   "metadata": {
    "colab": {
     "base_uri": "https://localhost:8080/"
    },
    "id": "zL3vQBUat8lb",
    "outputId": "90d3e90c-e34f-4526-8383-6044ad7d2564"
   },
   "outputs": [
    {
     "name": "stdout",
     "output_type": "stream",
     "text": [
      "Full set shape: (577682, 78)\n",
      "X train set shape: (462145, 78)\n",
      "X test set shape: (115537, 78)\n",
      "y train set shape: (462145,)\n",
      "y test set shape: (115537,)\n"
     ]
    }
   ],
   "source": [
    "X_train, X_test, y_train, y_test = train_test_split(X_tr, y_tr, test_size=0.2, random_state=3)\n",
    "print ('Full set shape:', X_tr.shape)\n",
    "print ('X train set shape:', X_train.shape)\n",
    "print ('X test set shape:', X_test.shape)\n",
    "print ('y train set shape:', y_train.shape)\n",
    "print ('y test set shape:', y_test.shape)"
   ]
  },
  {
   "cell_type": "markdown",
   "metadata": {
    "id": "6q72iyGMjxN5"
   },
   "source": [
    "## 5. Model Training and Validation"
   ]
  },
  {
   "cell_type": "code",
   "execution_count": 82,
   "metadata": {
    "id": "-P5yXiqQ7akW"
   },
   "outputs": [],
   "source": [
    "def peek_results(actual, predicted, num = 20):\n",
    "    print(\"actual\", \"\\t|\", \"Predicted\")\n",
    "    print(\"------------------\")\n",
    "    for _ in range(num):\n",
    "        sel = np.random.randint(0, len(actual))\n",
    "        actual_label = le.inverse_transform([actual[sel]])[0]\n",
    "        predicted_label = le.inverse_transform([predicted[sel]])[0]\n",
    "        print(actual_label, \"\\t|\", predicted_label)"
   ]
  },
  {
   "cell_type": "code",
   "execution_count": 83,
   "metadata": {
    "colab": {
     "base_uri": "https://localhost:8080/",
     "height": 92
    },
    "id": "VpO8knvTSTWf",
    "outputId": "75a55b18-5e2c-4e4d-8318-0186814d0540"
   },
   "outputs": [
    {
     "data": {
      "text/html": [
       "<style>#sk-container-id-2 {color: black;background-color: white;}#sk-container-id-2 pre{padding: 0;}#sk-container-id-2 div.sk-toggleable {background-color: white;}#sk-container-id-2 label.sk-toggleable__label {cursor: pointer;display: block;width: 100%;margin-bottom: 0;padding: 0.3em;box-sizing: border-box;text-align: center;}#sk-container-id-2 label.sk-toggleable__label-arrow:before {content: \"▸\";float: left;margin-right: 0.25em;color: #696969;}#sk-container-id-2 label.sk-toggleable__label-arrow:hover:before {color: black;}#sk-container-id-2 div.sk-estimator:hover label.sk-toggleable__label-arrow:before {color: black;}#sk-container-id-2 div.sk-toggleable__content {max-height: 0;max-width: 0;overflow: hidden;text-align: left;background-color: #f0f8ff;}#sk-container-id-2 div.sk-toggleable__content pre {margin: 0.2em;color: black;border-radius: 0.25em;background-color: #f0f8ff;}#sk-container-id-2 input.sk-toggleable__control:checked~div.sk-toggleable__content {max-height: 200px;max-width: 100%;overflow: auto;}#sk-container-id-2 input.sk-toggleable__control:checked~label.sk-toggleable__label-arrow:before {content: \"▾\";}#sk-container-id-2 div.sk-estimator input.sk-toggleable__control:checked~label.sk-toggleable__label {background-color: #d4ebff;}#sk-container-id-2 div.sk-label input.sk-toggleable__control:checked~label.sk-toggleable__label {background-color: #d4ebff;}#sk-container-id-2 input.sk-hidden--visually {border: 0;clip: rect(1px 1px 1px 1px);clip: rect(1px, 1px, 1px, 1px);height: 1px;margin: -1px;overflow: hidden;padding: 0;position: absolute;width: 1px;}#sk-container-id-2 div.sk-estimator {font-family: monospace;background-color: #f0f8ff;border: 1px dotted black;border-radius: 0.25em;box-sizing: border-box;margin-bottom: 0.5em;}#sk-container-id-2 div.sk-estimator:hover {background-color: #d4ebff;}#sk-container-id-2 div.sk-parallel-item::after {content: \"\";width: 100%;border-bottom: 1px solid gray;flex-grow: 1;}#sk-container-id-2 div.sk-label:hover label.sk-toggleable__label {background-color: #d4ebff;}#sk-container-id-2 div.sk-serial::before {content: \"\";position: absolute;border-left: 1px solid gray;box-sizing: border-box;top: 0;bottom: 0;left: 50%;z-index: 0;}#sk-container-id-2 div.sk-serial {display: flex;flex-direction: column;align-items: center;background-color: white;padding-right: 0.2em;padding-left: 0.2em;position: relative;}#sk-container-id-2 div.sk-item {position: relative;z-index: 1;}#sk-container-id-2 div.sk-parallel {display: flex;align-items: stretch;justify-content: center;background-color: white;position: relative;}#sk-container-id-2 div.sk-item::before, #sk-container-id-2 div.sk-parallel-item::before {content: \"\";position: absolute;border-left: 1px solid gray;box-sizing: border-box;top: 0;bottom: 0;left: 50%;z-index: -1;}#sk-container-id-2 div.sk-parallel-item {display: flex;flex-direction: column;z-index: 1;position: relative;background-color: white;}#sk-container-id-2 div.sk-parallel-item:first-child::after {align-self: flex-end;width: 50%;}#sk-container-id-2 div.sk-parallel-item:last-child::after {align-self: flex-start;width: 50%;}#sk-container-id-2 div.sk-parallel-item:only-child::after {width: 0;}#sk-container-id-2 div.sk-dashed-wrapped {border: 1px dashed gray;margin: 0 0.4em 0.5em 0.4em;box-sizing: border-box;padding-bottom: 0.4em;background-color: white;}#sk-container-id-2 div.sk-label label {font-family: monospace;font-weight: bold;display: inline-block;line-height: 1.2em;}#sk-container-id-2 div.sk-label-container {text-align: center;}#sk-container-id-2 div.sk-container {/* jupyter's `normalize.less` sets `[hidden] { display: none; }` but bootstrap.min.css set `[hidden] { display: none !important; }` so we also need the `!important` here to be able to override the default hidden behavior on the sphinx rendered scikit-learn.org. See: https://github.com/scikit-learn/scikit-learn/issues/21755 */display: inline-block !important;position: relative;}#sk-container-id-2 div.sk-text-repr-fallback {display: none;}</style><div id=\"sk-container-id-2\" class=\"sk-top-container\"><div class=\"sk-text-repr-fallback\"><pre>LGBMClassifier(learning_rate=0.05, min_data_in_leaf=5, n_estimators=50,\n",
       "               random_state=30, verbosity=-1)</pre><b>In a Jupyter environment, please rerun this cell to show the HTML representation or trust the notebook. <br />On GitHub, the HTML representation is unable to render, please try loading this page with nbviewer.org.</b></div><div class=\"sk-container\" hidden><div class=\"sk-item\"><div class=\"sk-estimator sk-toggleable\"><input class=\"sk-toggleable__control sk-hidden--visually\" id=\"sk-estimator-id-2\" type=\"checkbox\" checked><label for=\"sk-estimator-id-2\" class=\"sk-toggleable__label sk-toggleable__label-arrow\">LGBMClassifier</label><div class=\"sk-toggleable__content\"><pre>LGBMClassifier(learning_rate=0.05, min_data_in_leaf=5, n_estimators=50,\n",
       "               random_state=30, verbosity=-1)</pre></div></div></div></div></div>"
      ],
      "text/plain": [
       "LGBMClassifier(learning_rate=0.05, min_data_in_leaf=5, n_estimators=50,\n",
       "               random_state=30, verbosity=-1)"
      ]
     },
     "execution_count": 83,
     "metadata": {},
     "output_type": "execute_result"
    }
   ],
   "source": [
    "import lightgbm as lgb\n",
    "\n",
    "params = {\n",
    "  'boosting_type': 'gbdt',  # default\n",
    "  'num_leaves': 31,  # default\n",
    "  'max_depth':-1,\n",
    "  'n_estimators': 50,  # default = 100\n",
    "  'learning_rate': 0.05,  # default = 0.10\n",
    "  'min_data_in_leaf': 5,  # default = 20\n",
    "  'random_state': 30,\n",
    "  'verbosity': -1\n",
    "}\n",
    "\n",
    "model = lgb.LGBMClassifier(**params)\n",
    "model.fit(X_train, y_train)"
   ]
  },
  {
   "cell_type": "code",
   "execution_count": 84,
   "metadata": {
    "colab": {
     "base_uri": "https://localhost:8080/"
    },
    "id": "qHgAvzCU98mS",
    "outputId": "2042855a-98ac-40dd-accc-03fa98990afc"
   },
   "outputs": [
    {
     "name": "stdout",
     "output_type": "stream",
     "text": [
      "actual \t| Predicted\n",
      "------------------\n",
      "Rejected \t| Withdrawn Application\n",
      "Withdrawn Application \t| Withdrawn Application\n",
      "Rejected \t| Withdrawn Application\n",
      "Withdrawn Application \t| Withdrawn Application\n",
      "Withdrawn Application \t| Withdrawn Application\n",
      "External Collection \t| Paid Off Loan\n",
      "Withdrawn Application \t| Withdrawn Application\n",
      "Withdrawn Application \t| Withdrawn Application\n",
      "Withdrawn Application \t| Withdrawn Application\n",
      "Withdrawn Application \t| Withdrawn Application\n",
      "Withdrawn Application \t| Withdrawn Application\n",
      "Rejected \t| Withdrawn Application\n",
      "Withdrawn Application \t| Withdrawn Application\n",
      "Withdrawn Application \t| Withdrawn Application\n",
      "Withdrawn Application \t| Withdrawn Application\n",
      "Withdrawn Application \t| Withdrawn Application\n",
      "Withdrawn Application \t| Withdrawn Application\n",
      "Rejected \t| Withdrawn Application\n",
      "Withdrawn Application \t| Withdrawn Application\n",
      "Withdrawn Application \t| Withdrawn Application\n"
     ]
    }
   ],
   "source": [
    "y_pred_train = model.predict(X_train)\n",
    "peek_results(y_train, y_pred_train)"
   ]
  },
  {
   "cell_type": "code",
   "execution_count": 85,
   "metadata": {
    "colab": {
     "base_uri": "https://localhost:8080/"
    },
    "id": "DfzOWjaq7ces",
    "outputId": "a7c622a5-b1cb-47db-b2ec-8676112e87ea"
   },
   "outputs": [
    {
     "name": "stdout",
     "output_type": "stream",
     "text": [
      "actual \t| Predicted\n",
      "------------------\n",
      "New Loan \t| Paid Off Loan\n",
      "Withdrawn Application \t| Withdrawn Application\n",
      "Withdrawn Application \t| Withdrawn Application\n",
      "Withdrawn Application \t| Withdrawn Application\n",
      "Rejected \t| Withdrawn Application\n",
      "Withdrawn Application \t| Withdrawn Application\n",
      "Withdrawn Application \t| Withdrawn Application\n",
      "Rejected \t| Withdrawn Application\n",
      "Withdrawn Application \t| Withdrawn Application\n",
      "Withdrawn Application \t| Withdrawn Application\n",
      "Withdrawn Application \t| Withdrawn Application\n",
      "Withdrawn Application \t| Withdrawn Application\n",
      "Withdrawn Application \t| Withdrawn Application\n",
      "Withdrawn Application \t| Withdrawn Application\n",
      "Withdrawn Application \t| Withdrawn Application\n",
      "Withdrawn Application \t| Withdrawn Application\n",
      "Withdrawn Application \t| Withdrawn Application\n",
      "Withdrawn Application \t| Withdrawn Application\n",
      "Withdrawn Application \t| Withdrawn Application\n",
      "Withdrawn Application \t| Withdrawn Application\n"
     ]
    }
   ],
   "source": [
    "y_pred = model.predict(X_test)\n",
    "peek_results(y_test, y_pred)"
   ]
  },
  {
   "cell_type": "code",
   "execution_count": 86,
   "metadata": {
    "id": "HPLhS-eoqdM4"
   },
   "outputs": [],
   "source": [
    "def accuracy(model, X_data, y_data):\n",
    "  preds = model.predict(X_data)  # all predicted values\n",
    "  n_correct = np.sum(preds == y_data)\n",
    "  result = n_correct / len(X_data)\n",
    "  return result"
   ]
  },
  {
   "cell_type": "code",
   "execution_count": 87,
   "metadata": {
    "colab": {
     "base_uri": "https://localhost:8080/"
    },
    "id": "cxEU6FjzrTI0",
    "outputId": "4057c0bf-a89b-4fd1-a2b7-9eb0d94d405f"
   },
   "outputs": [
    {
     "name": "stdout",
     "output_type": "stream",
     "text": [
      "\n",
      "Accuracy on training data = 0.8534 \n",
      "Accuracy on test data = 0.8505 \n"
     ]
    }
   ],
   "source": [
    "train_acc = accuracy(model, X_train, y_train)\n",
    "print(\"\\nAccuracy on training data = %0.4f \" % train_acc)\n",
    "test_acc = accuracy(model, X_test, y_test)\n",
    "print(\"Accuracy on test data = %0.4f \" % test_acc)"
   ]
  },
  {
   "cell_type": "code",
   "execution_count": 88,
   "metadata": {
    "colab": {
     "base_uri": "https://localhost:8080/"
    },
    "id": "U76Ui6-d7ET3",
    "outputId": "11744937-98b2-4b51-c857-dcb923a905ff"
   },
   "outputs": [
    {
     "name": "stdout",
     "output_type": "stream",
     "text": [
      "Accuracy: 0.8505 \n",
      "Precision: 0.8483 \n",
      "Recall: 0.8505 \n",
      "F1 Score: 0.8351 \n"
     ]
    }
   ],
   "source": [
    "y_pred = model.predict(X_test)\n",
    "print(\"Accuracy: %0.4f \" % accuracy_score(y_test, y_pred))\n",
    "print(\"Precision: %0.4f \" % precision_score(y_test, y_pred, average='weighted', zero_division=0))\n",
    "print(\"Recall: %0.4f \" % recall_score(y_test, y_pred, average='weighted', zero_division=0))\n",
    "print(\"F1 Score: %0.4f \" % f1_score(y_test, y_pred, average='weighted'))"
   ]
  },
  {
   "cell_type": "markdown",
   "metadata": {
    "id": "5Ayr1hrzjzKU"
   },
   "source": [
    "## 6. Testing and Deployment"
   ]
  },
  {
   "cell_type": "code",
   "execution_count": 89,
   "metadata": {
    "colab": {
     "base_uri": "https://localhost:8080/"
    },
    "id": "Eq2328NU1xXE",
    "outputId": "c4976f7d-3bf8-4cea-a374-c8e508175eb9"
   },
   "outputs": [
    {
     "name": "stdout",
     "output_type": "stream",
     "text": [
      "Test 1 :\n",
      "Actual label: Withdrawn Application\n",
      "Predicted label: Withdrawn Application\n",
      "Test 2 :\n",
      "Actual label: Paid Off Loan\n",
      "Predicted label: Paid Off Loan\n",
      "Test 3 :\n",
      "Actual label: Withdrawn Application\n",
      "Predicted label: Withdrawn Application\n",
      "Test 4 :\n",
      "Actual label: Withdrawn Application\n",
      "Predicted label: Withdrawn Application\n",
      "Test 5 :\n",
      "Actual label: Rejected\n",
      "Predicted label: Withdrawn Application\n"
     ]
    }
   ],
   "source": [
    "test_df = pd.read_csv(\"/content/loanTest.csv\")\n",
    "test_df.replace({'NA': np.nan, '': np.nan}, inplace=True)\n",
    "test_df[boolean_column] = test_df[boolean_column].replace({True: 1, False: 0})\n",
    "\n",
    "Xt = loan_df.drop(columns=['loanId', 'anon_ssn', 'applicationDate', 'originatedDate', 'loanStatus', 'clarityFraudId', 'hasCF'], axis=1)\n",
    "yt = loan_df['loanStatus']\n",
    "\n",
    "Xt_num = Xt.drop([\"payFrequency\", \"state\", \"leadType\", \"fpStatus\"], axis=1)\n",
    "Xt_cat = Xt[[\"payFrequency\", \"state\", \"leadType\", \"fpStatus\"]]\n",
    "\n",
    "Xt_num[numeric_columns] = Xt_num[numeric_columns].fillna(0)\n",
    "Xt_cat.loc[:, 'payFrequency'] = Xt_cat['payFrequency'].fillna('N') # N - Not applicable\n",
    "Xt_cat.loc[:, 'state'] = Xt_cat['state'].fillna('N') # N - Not applicable\n",
    "Xt_cat.loc[:, 'fpStatus'] = Xt_cat['fpStatus'].fillna('None')\n",
    "\n",
    "Xt_num_tr = scaler.transform(Xt_num)\n",
    "\n",
    "lb_encoder = LabelBinarizer()\n",
    "lb_encoder.fit(Xt_cat[\"payFrequency\"])\n",
    "Xt_cat_payFrequency_tr = lb_encoder.transform(Xt_cat[\"payFrequency\"]) # return as numpy\n",
    "\n",
    "lb_encoder.fit(Xt_cat[\"state\"])\n",
    "Xt_cat_state_tr = lb_encoder.transform(Xt_cat[\"state\"]) # return as numpy\n",
    "\n",
    "lb_encoder.fit(Xt_cat[\"leadType\"])\n",
    "Xt_cat_leadType_tr = lb_encoder.transform(Xt_cat[\"leadType\"]) # return as numpy\n",
    "\n",
    "lb_encoder.fit(Xt_cat[\"fpStatus\"])\n",
    "Xt_cat_fpStatus_tr = lb_encoder.transform(Xt_cat[\"fpStatus\"]) # return as numpy\n",
    "\n",
    "Xt_cat_tr = np.hstack([Xt_cat_payFrequency_tr, Xt_cat_state_tr, Xt_cat_leadType_tr, Xt_cat_fpStatus_tr])\n",
    "yt.fillna('Not Available', inplace=True)\n",
    "le = LabelEncoder()\n",
    "le.fit(yt)\n",
    "yt_tr = le.transform(yt) # return as numpy\n",
    "Xt_tr = np.hstack([Xt_num_tr, Xt_cat_tr])\n",
    "\n",
    "yt_pred = model.predict(Xt_tr)\n",
    "for i in range(5):\n",
    "  actual_label = le.inverse_transform([yt_tr[i]])[0]\n",
    "  predicted_label = le.inverse_transform([yt_pred[i]])[0]\n",
    "  print(\"Test\", i+1, \":\")\n",
    "  print('Actual label:', actual_label)\n",
    "  print('Predicted label:', predicted_label)"
   ]
  },
  {
   "cell_type": "code",
   "execution_count": 90,
   "metadata": {
    "colab": {
     "base_uri": "https://localhost:8080/"
    },
    "id": "XscNII-93sW4",
    "outputId": "05edaabb-ba94-4c01-ca56-2aeb553894bf"
   },
   "outputs": [
    {
     "name": "stdout",
     "output_type": "stream",
     "text": [
      "Model is saved!\n"
     ]
    }
   ],
   "source": [
    "import pickle\n",
    "pth = \"/content/loan_model.pkl\"\n",
    "with open(pth, \"wb\") as f:\n",
    "  pickle.dump(model, f)\n",
    "print(\"Model is saved!\")"
   ]
  }
 ],
 "metadata": {
  "colab": {
   "provenance": []
  },
  "kernelspec": {
   "display_name": "Python 3",
   "name": "python3"
  },
  "language_info": {
   "name": "python"
  }
 },
 "nbformat": 4,
 "nbformat_minor": 0
}
